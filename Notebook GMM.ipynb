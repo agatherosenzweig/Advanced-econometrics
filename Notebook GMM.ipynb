{
 "cells": [
  {
   "cell_type": "code",
   "execution_count": 1,
   "metadata": {},
   "outputs": [],
   "source": [
    "import random\n",
    "import numpy as np\n",
    "from sklearn.linear_model import LinearRegression\n",
    "from scipy.optimize import minimize_scalar\n"
   ]
  },
  {
   "cell_type": "code",
   "execution_count": 362,
   "metadata": {},
   "outputs": [],
   "source": [
    "random.seed(188)\n",
    "n=10000\n",
    "T=20\n",
    "phizero=0.7\n",
    "a=np.array([np.random.normal(0,1) for i in range(n)])\n",
    "y0=np.array([np.random.normal(a[i]/(1-phizero),1/np.sqrt(1-phizero**2)) for i in range(n)])\n",
    "epsilon=[np.random.normal(0,1) for i in range(n*T)]"
   ]
  },
  {
   "cell_type": "code",
   "execution_count": 363,
   "metadata": {},
   "outputs": [],
   "source": [
    "y=np.zeros((T,n))\n",
    "y[0]=y0\n",
    "y=y.T\n",
    "for i in range(n):\n",
    "    for j in range(1,T):\n",
    "        y[i][j]=a[i]+phizero*y[i][j-1]+epsilon[i*T+j]\n",
    "\n",
    "yit=y.reshape(n*T)"
   ]
  },
  {
   "cell_type": "code",
   "execution_count": 364,
   "metadata": {},
   "outputs": [],
   "source": [
    "#Generation des first difference :\n",
    "delta_y=np.zeros((n,T-1))\n",
    "for i in range(n):\n",
    "    for j in range(T-1):\n",
    "        delta_y[i,j]=y[i,j+1]-y[i,j]"
   ]
  },
  {
   "cell_type": "markdown",
   "metadata": {},
   "source": [
    "1) Pour chaque $i$, on définit les instruments $z_{it}$ pertinents tel que : $\\forall t>1, E(z_{it}\\Delta u_{it})=0$\n",
    "\n",
    "En l'occurence, on prend : $z_{it}=(y_{it-2}) \\forall t\\ge2$ 0 sinon (pas d'instruments). Comme on instrumente directement les différences premières, il n'y a pas de t=0.\n",
    "\n",
    "$Z_{it}$ contient les instrument de l'individu i au temps t\n",
    "\n",
    "Donc sur la ligne t de z on aura : $(0,y_{i0},(y_{i0},y_{i1}),y_{i2}..)$ et ce pour les n individus\n",
    "\n"
   ]
  },
  {
   "cell_type": "code",
   "execution_count": 365,
   "metadata": {},
   "outputs": [],
   "source": [
    "z=[]\n",
    "y\n",
    "#On parcours tout les temps depuis t=2\n",
    "for i in range(n):\n",
    "    #On ajoute une ligne avec 2 zeros au début\n",
    "    z.append([[0]])\n",
    "    for t in range(2,T):\n",
    "    #On ajoute dans la ligne i\n",
    "        instrument=[y[i,t-s] for s in range(2,t+1) ]\n",
    "        z[i].append(instrument)\n"
   ]
  },
  {
   "cell_type": "markdown",
   "metadata": {},
   "source": [
    "Ensuite on définit  $h(\\rho,\\Delta y_{it},z_{it})$ tel que : $E(h(\\rho,\\Delta y_{it},z_{it}))=0$.\n",
    "\n",
    "En l'occurence :  $ h(\\rho,\\Delta y_{it},z_{it}) = z_{it}(\\Delta y_{it}-\\rho \\Delta y_{it-1})$.\n",
    "\n",
    "\n"
   ]
  },
  {
   "cell_type": "code",
   "execution_count": 366,
   "metadata": {},
   "outputs": [
    {
     "data": {
      "text/plain": [
       "[-0.0036911403997872826,\n",
       " 0.0027232167200208325,\n",
       " 0.01903394608363309,\n",
       " 0.03955821621342623]"
      ]
     },
     "execution_count": 366,
     "metadata": {},
     "output_type": "execute_result"
    }
   ],
   "source": [
    "def h(rho,i,t):\n",
    "    instr=z[i][t]\n",
    "    return [inst*(delta_y[i,t]-rho*delta_y[i,t-1]) for inst in instr]\n",
    "h(0.2,2,4)\n"
   ]
  },
  {
   "cell_type": "markdown",
   "metadata": {},
   "source": [
    "Puis on a : \n",
    "$h(\\rho,Y_i,Z_i,X_i) = (h(\\rho,\\Delta y_{11},z_{1T}),h(\\rho,\\Delta y_{21},z_{2T})...)$"
   ]
  },
  {
   "cell_type": "markdown",
   "metadata": {},
   "source": [
    "Finalement on minimise le critère : \n",
    "    $$Q(\\theta)=[\\sum_{i=1}^Nh_i(\\theta,Y_i)]'W_T[\\sum_{i=1}^Nh(\\theta,Y_i)]$$"
   ]
  },
  {
   "cell_type": "code",
   "execution_count": 367,
   "metadata": {},
   "outputs": [],
   "source": [
    "def tab_h(i,rho):\n",
    "    tab_h=[]\n",
    "    for t in range(1,T-1):\n",
    "        tab_h+=h(rho,i,t)\n",
    "    return np.array(tab_h)\n",
    "\n",
    "def critere(rho):\n",
    "    M=1/(n-1)*sum([tab_h(i,rho) for i in range(n-1)])\n",
    "    return M@M.T\n"
   ]
  },
  {
   "cell_type": "code",
   "execution_count": 368,
   "metadata": {},
   "outputs": [
    {
     "data": {
      "text/plain": [
       "     fun: 0.3241134601299948\n",
       "    nfev: 9\n",
       "     nit: 5\n",
       " success: True\n",
       "       x: 0.6835207743977469"
      ]
     },
     "execution_count": 368,
     "metadata": {},
     "output_type": "execute_result"
    }
   ],
   "source": [
    "minimize_scalar(critere)"
   ]
  },
  {
   "cell_type": "code",
   "execution_count": null,
   "metadata": {},
   "outputs": [],
   "source": []
  },
  {
   "cell_type": "code",
   "execution_count": null,
   "metadata": {},
   "outputs": [],
   "source": [
    "#Matrice qui contiennent yit et yit-1\n",
    "ysanst0=np.array([yit[i] for i in range(n*T) if (i%T!=0)])\n",
    "ysanstT=np.array([yit[i] for i in range(n*T) if (i%T!=T-1)])\n",
    "\n",
    "#Matrice de qui contient les effets fixes \n",
    "effetfixe=np.zeros((n*(T-1),n))\n",
    "for i in range(n):\n",
    "    for j in range((T-1)*i,(T-1)*i+T-1):\n",
    "        effetfixe[j][i]=1\n",
    "effetfixe"
   ]
  }
 ],
 "metadata": {
  "kernelspec": {
   "display_name": "Python 3",
   "language": "python",
   "name": "python3"
  },
  "language_info": {
   "codemirror_mode": {
    "name": "ipython",
    "version": 3
   },
   "file_extension": ".py",
   "mimetype": "text/x-python",
   "name": "python",
   "nbconvert_exporter": "python",
   "pygments_lexer": "ipython3",
   "version": "3.8.5"
  }
 },
 "nbformat": 4,
 "nbformat_minor": 4
}
