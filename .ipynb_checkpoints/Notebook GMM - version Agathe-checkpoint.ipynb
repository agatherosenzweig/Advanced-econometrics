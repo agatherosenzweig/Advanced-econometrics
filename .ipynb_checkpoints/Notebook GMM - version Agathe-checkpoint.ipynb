{
 "cells": [
  {
   "cell_type": "code",
   "execution_count": 352,
   "metadata": {},
   "outputs": [],
   "source": [
    "import random\n",
    "import numpy as np\n",
    "from sklearn.linear_model import LinearRegression\n",
    "from scipy.optimize import minimize_scalar\n",
    "import tqdm\n",
    "import matplotlib.pyplot as plt\n",
    "from scipy.stats import norm"
   ]
  },
  {
   "cell_type": "markdown",
   "metadata": {},
   "source": [
    "## I - Comparison of the existing estimators"
   ]
  },
  {
   "cell_type": "code",
   "execution_count": 406,
   "metadata": {},
   "outputs": [],
   "source": [
    "#Simulation of the data\n",
    "random.seed(2040)\n",
    "n= 100\n",
    "T= 5\n",
    "phizero =  0.4\n",
    "\n",
    "results_AH81 = list()\n",
    "results_AB95 = list()\n",
    "results_HP = list()\n",
    "HP_direct = list()\n",
    "HK_direct = list()\n",
    "\n",
    "for l in range(500):\n",
    "    #definition of y0 for the n individuals \n",
    "    a = np.random.normal(0,1, size = n)\n",
    "    y0 = np.vectorize(lambda x: np.random.normal(x/(1-phizero),1/(1-phizero**2)**0.5))(a)\n",
    "    epsilon = np.random.normal(0, 1, size = n*T)\n",
    "\n",
    "\n",
    "    #matrix where each row is the time period, and each column is the ith individual\n",
    "    y=np.zeros((T+1,n))\n",
    "\n",
    "    #the first row of the matrix is y0\n",
    "    y[0] = y0\n",
    "\n",
    "    #We implement the first line as zeros for simplicity of index\n",
    "    delta_y = np.zeros((T+1,n))\n",
    "\n",
    "    #recursive definition of y, delta_y and delta_epsilon\n",
    "    for j in range(1,T+1):\n",
    "        y[j] = a + y[j-1]*phizero + epsilon[j]\n",
    "        delta_y[j] = y[j] - y[j-1]\n",
    "        \n",
    "    \n",
    "    #Different criteria we want to minimize\n",
    "    results_AH81.append(minimize_scalar(moments, bounds = (-0.99,0.99), method = \"bounded\").x)\n",
    "    results_AB95.append(minimize_scalar(moments_AB95, bounds = (-0.99,0.99), method = \"bounded\").x)\n",
    "    results_HP.append(minimize_scalar(moments_HP, bounds = (-0.99,0.99), method = \"bounded\").x)\n",
    "    HP_direct.append(HP_estim_direct(y,n,T))\n",
    "    HK_direct.append(HK_estim_direct(y,n,T))"
   ]
  },
  {
   "cell_type": "code",
   "execution_count": 392,
   "metadata": {},
   "outputs": [],
   "source": [
    "def plot_results(results, title):\n",
    "    plt.hist(results, 100)\n",
    "    plt.axvline(x = phizero, color='r', linestyle=':', label = \"target value\")\n",
    "    plt.axvline(x = np.mean(results), color = \"b\", label = \"mean\")\n",
    "    plt.legend(loc='upper right')\n",
    "    plt.title(title)\n",
    "    plt.show()"
   ]
  },
  {
   "cell_type": "markdown",
   "metadata": {},
   "source": [
    "We have to rewrite the condition (5), so we can see the parameter $\\phi$ \n",
    "\n",
    "$$\\sum_{i = 1}^{n} \\Delta y_{i,t-1} \\times y_{i, t-s} =  \\sum_{i = 1}^{n}( \\phi \\Delta y_{i,t-2} + \\Delta \\varepsilon_{i,t-1})\\times y_{i, t-s}) $$\n",
    "\n",
    "Yet, $$\\Delta \\varepsilon_{i,t-1} = \\varepsilon_{i,t -1} - \\varepsilon_{i,t-2} = y_{i,t-1}  - \\phi y_{i, t-2} - y_{i, t-2} + \\phi y_{i, t-3} = y_{i,t-1}  - (1 + \\phi) ( y_{i, t-2}) + \\phi y_{i, t-3}$$\n",
    "\n",
    "Thus the moment condition is finally: \n",
    "$$\\sum_{i = 1}^{n} \\Delta y_{i,t-1} \\times y_{i, t-s}) =  \\sum_{i = 1}^{n}( y_{i,t-1} - y_{i, t-2} +  \\phi y_{i, t-3})\\times y_{i, t-s}) = \\sum_{i = 1}^{n}( \\Delta y_{i,t-1} +  \\phi y_{i, t-3})\\times y_{i, t-s})$$"
   ]
  },
  {
   "cell_type": "code",
   "execution_count": 399,
   "metadata": {},
   "outputs": [
    {
     "data": {
      "image/png": "[encoded data removed]",
      "text/plain": [
       "<Figure size 432x288 with 1 Axes>"
      ]
     },
     "metadata": {
      "needs_background": "light"
     },
     "output_type": "display_data"
    }
   ],
   "source": [
    "def moments(phi): \n",
    "    moments = []\n",
    "    for t in range(3, T+1):\n",
    "        for s in range(2, t):\n",
    "            moments.append(sum([y[t-s][i]*(delta_y[t-1][i] + phi*y[t-3][i]) for i in range(n)])/n)\n",
    "    return(np.dot(moments, moments)) \n",
    "\n",
    "plot_results(results_AH81, \"Andersen and Hsiao 1981\")"
   ]
  },
  {
   "cell_type": "markdown",
   "metadata": {},
   "source": [
    "Condition from Arellano Bover 1995: \n",
    "$$ E(u_{i,t},\\Delta y_{i,t-1})=E((y_{i,t}-\\phi_0 y_{it-1})(y_{i,t-1}-y_{it-2})=0, \\text{for } t=2,3,...,T $$\n"
   ]
  },
  {
   "cell_type": "code",
   "execution_count": 400,
   "metadata": {},
   "outputs": [
    {
     "data": {
      "image/png": "[encoded data removed]",
      "text/plain": [
       "<Figure size 432x288 with 1 Axes>"
      ]
     },
     "metadata": {
      "needs_background": "light"
     },
     "output_type": "display_data"
    }
   ],
   "source": [
    "def moments_AB95(phi): \n",
    "    moments = []\n",
    "    for t in range(2, T+1):\n",
    "        moments.append(sum([(y[t][i] - phi*y[t-1][i])*(y[t-1][i] - y[t-2][i]) for i in range(n)])/n)\n",
    "    return(np.dot(moments, moments))\n",
    "plot_results(results_AB95, \"Arellano and Bover 1995\")"
   ]
  },
  {
   "cell_type": "code",
   "execution_count": 401,
   "metadata": {},
   "outputs": [],
   "source": [
    "def moments_HP(phi):\n",
    "    moments = []\n",
    "    for t in range(2, T):\n",
    "        moments.append(sum([delta_y[t-1][i]*(2*delta_y[t][i] + delta_y[t-1][i]) - phi*delta_y[t-1][i] for i in range(n)])/n)\n",
    "    return(np.dot(moments, moments)) "
   ]
  },
  {
   "cell_type": "code",
   "execution_count": 387,
   "metadata": {},
   "outputs": [],
   "source": [
    "#Formula 7 p70 in the paper\n",
    "def HP_estim_direct(y,n,T):\n",
    "    numerateur=0\n",
    "    denominateur=0\n",
    "    for i in range(n) :\n",
    "        for t in range(1,T+1):\n",
    "            numerateur+=delta_y[t-1][i]*(2*delta_y[t][i] + delta_y[t-1][i])\n",
    "            denominateur+=(delta_y[t-1][i])**2\n",
    "\n",
    "    estim=numerateur/denominateur\n",
    "    return estim\n"
   ]
  },
  {
   "cell_type": "code",
   "execution_count": 458,
   "metadata": {},
   "outputs": [
    {
     "data": {
      "image/png": "[encoded data removed]",
      "text/plain": [
       "<Figure size 432x288 with 1 Axes>"
      ]
     },
     "metadata": {
      "needs_background": "light"
     },
     "output_type": "display_data"
    },
    {
     "data": {
      "image/png": "[encoded data removed]",
      "text/plain": [
       "<Figure size 432x288 with 1 Axes>"
      ]
     },
     "metadata": {
      "needs_background": "light"
     },
     "output_type": "display_data"
    }
   ],
   "source": [
    "plot_results(results_HP, \"Han and Phillips with minimization\")\n",
    "\n",
    "plt.hist(HP_direct, density = True, bins= 100, alpha=0.6, color='b')\n",
    "  \n",
    "# Plot the PDF.\n",
    "xmin, xmax = plt.xlim()\n",
    "x = np.linspace(xmin, xmax, 100)\n",
    "mu = phizero\n",
    "std = (2*(1 + phizero)/n*T)**0.5\n",
    "p = norm.pdf(x, mu, std)\n",
    "\n",
    "plt.plot(x, p, 'k', linewidth=2, label = \"Asymptotical limit\")\n",
    "plt.legend()\n",
    "plt.title(\"Exact specification for the Han and Phillips estimator\")\n",
    "plt.show()"
   ]
  },
  {
   "cell_type": "markdown",
   "metadata": {},
   "source": [
    "Han and Phillips (forthcoming) proves the fact that the exact simulator is gaussian, for N and T large.  "
   ]
  },
  {
   "cell_type": "code",
   "execution_count": 457,
   "metadata": {},
   "outputs": [
    {
     "data": {
      "image/png": "[encoded data removed]",
      "text/plain": [
       "<Figure size 432x288 with 1 Axes>"
      ]
     },
     "metadata": {
      "needs_background": "light"
     },
     "output_type": "display_data"
    }
   ],
   "source": [
    "#Fonction codée par Gaetan\n",
    "def HK_estim_direct(y,n,T):\n",
    "    \n",
    "    within_ = [1/T*sum([y[t-1][i] for t in range(1,T)]) for i in range(n)]\n",
    "    within = [1/T*sum([y[t][i] for t in range(1,T)]) for i in range(n)]\n",
    "\n",
    "    Upsilon=0\n",
    "    for i in range(n):\n",
    "        for t in range(1,T):\n",
    "            Upsilon+=(y[t-1][i]-within_[i])**2\n",
    "\n",
    "    Upsilon*=1/(n*T)\n",
    "\n",
    "    HK_num_1=0\n",
    "    for i in range(n):\n",
    "        for t in range(1,T):\n",
    "            HK_num_1+=(y[t-1][i]-within_[i])*(y[t][i]-within_[i])\n",
    "            \n",
    "    HK_num_1*=1/(n*T)\n",
    "\n",
    "    phi_OLS=HK_num_1/Upsilon\n",
    "\n",
    "    omega=(1-phi_OLS**2)*Upsilon\n",
    "\n",
    "    HK_num_2 = (1/T)*(1-phi_OLS)*omega\n",
    "\n",
    "    HK_estim=(HK_num_1+HK_num_2)/Upsilon\n",
    "\n",
    "    return(HK_estim)\n",
    "\n",
    "\n",
    "plt.hist(HK_direct, bins= 100, alpha=0.6, density = True, color='b')\n",
    "  \n",
    "# Plot the PDF.\n",
    "xmin, xmax = plt.xlim()\n",
    "x = np.linspace(xmin, xmax, 100)\n",
    "mu = phizero\n",
    "std = (1 - phizero**2)**0.5/(n*T)**0.5\n",
    "p = norm.pdf(x, mu, std)\n",
    "\n",
    "plt.plot(x, p, 'k', linewidth=2, label = \"theoretical asymptotic limit\")\n",
    "plt.legend()\n",
    "plt.title(\"Exact specification for the Hahn and Kuersteiner estimator\")\n",
    "plt.show()"
   ]
  },
  {
   "cell_type": "markdown",
   "metadata": {},
   "source": [
    "# II- Indirect inference"
   ]
  },
  {
   "cell_type": "markdown",
   "metadata": {},
   "source": [
    "Mnt il faut coder l'inférence indirecte :\n",
    "\n",
    "1) On crée une fonction qui génère des données avec un phi donné\n",
    "\n",
    "2) On crée une fonction qui calcul OLS avec des données donnée\n",
    "\n",
    "3) On utilise la super fonction trop cool qui minimise des fonctions"
   ]
  },
  {
   "cell_type": "code",
   "execution_count": 467,
   "metadata": {},
   "outputs": [],
   "source": [
    "#Data generation \n",
    "def true_model_generation(phi,n,T):\n",
    "    phizero=float(phi)\n",
    "    a = np.random.normal(0,1, size = n)\n",
    "    y0 = np.vectorize(lambda x: np.random.normal(x/(1-phizero),1/(1-phizero**2)**0.5))(a)\n",
    "    epsilon = np.random.normal(0, 1, size = n*T)\n",
    "    y=np.zeros((T,n))\n",
    "    y[0]=y0\n",
    "    \n",
    "    #the first row of the matrix is y0\n",
    "    y[0] = y0\n",
    "\n",
    "    #We implement the first line as zeros for simplicity of index\n",
    "    delta_y = np.zeros((T+1,n))\n",
    "\n",
    "    #recursive definition of y, delta_y and delta_epsilon\n",
    "    for j in range(1,T+1):\n",
    "        y[j] = a + y[j-1]*phizero + epsilon[j]\n",
    "        delta_y[j] = y[j] - y[j-1]\n",
    "        \n",
    "    return(y)"
   ]
  },
  {
   "cell_type": "code",
   "execution_count": null,
   "metadata": {},
   "outputs": [],
   "source": [
    "H = 10 \n"
   ]
  },
  {
   "cell_type": "code",
   "execution_count": 224,
   "metadata": {},
   "outputs": [],
   "source": [
    "#Formule du papier pour l'estimateur\n",
    "def ML_papier(y):\n",
    "    mat_y_=y[:,:T-1]\n",
    "    mat_y=y[:,1:]\n",
    "    \n",
    "    y=mat_y.reshape(n*(T-1),1)\n",
    "    y_=mat_y_.reshape(n*(T-1),1)\n",
    "        \n",
    "    phi_ML_aux=np.linalg.inv((y_.T)@y_)@((y_.T)@y)\n",
    "    \n",
    "    return phi_ML_aux\n",
    "\n",
    "#Calcul de la binding function simulée pour un phi donnée\n",
    "def b_NT(phi,H):\n",
    "    b_simul=[ML_papier(gener_donne(phi,n,T)) for H in range(H)]\n",
    "    return np.mean(b_simul)"
   ]
  },
  {
   "cell_type": "code",
   "execution_count": 225,
   "metadata": {},
   "outputs": [
    {
     "data": {
      "text/plain": [
       "     fun: array([[0.00032135]])\n",
       " message: 'Solution found.'\n",
       "    nfev: 18\n",
       "  status: 0\n",
       " success: True\n",
       "       x: array([[0.41676448]])"
      ]
     },
     "execution_count": 225,
     "metadata": {},
     "output_type": "execute_result"
    }
   ],
   "source": [
    "#Minimisation de l'écart entre la binding fuction simulée et la \"vraie valeur\"\n",
    "# de la binding function\n",
    "\n",
    "def estim_indirect(H):\n",
    "    x=ML_papier(y)\n",
    "    def ecartL2(phi):\n",
    "        return abs(x-b_NT(phi,H))\n",
    "    return minimize_scalar(ecartL2,method=\"bounded\", bounds=(0.01,0.99) )\n",
    "\n",
    "\n",
    "estim_indirect(40)"
   ]
  },
  {
   "cell_type": "code",
   "execution_count": null,
   "metadata": {},
   "outputs": [],
   "source": []
  },
  {
   "cell_type": "code",
   "execution_count": null,
   "metadata": {},
   "outputs": [],
   "source": []
  }
 ],
 "metadata": {
  "kernelspec": {
   "display_name": "Python 3",
   "language": "python",
   "name": "python3"
  },
  "language_info": {
   "codemirror_mode": {
    "name": "ipython",
    "version": 3
   },
   "file_extension": ".py",
   "mimetype": "text/x-python",
   "name": "python",
   "nbconvert_exporter": "python",
   "pygments_lexer": "ipython3",
   "version": "3.8.3"
  }
 },
 "nbformat": 4,
 "nbformat_minor": 4
}
