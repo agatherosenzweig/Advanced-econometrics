{
 "cells": [
  {
   "cell_type": "code",
   "execution_count": 2,
   "metadata": {},
   "outputs": [],
   "source": [
    "#!pip install pydynpd"
   ]
  },
  {
   "cell_type": "code",
   "execution_count": 3,
   "metadata": {},
   "outputs": [],
   "source": [
    "#Import des modules\n",
    "import random\n",
    "import numpy as np\n",
    "from sklearn.linear_model import LinearRegression\n",
    "from scipy.optimize import minimize_scalar\n",
    "import pandas as pd\n",
    "#import statsmodels.api as sm\n",
    "import time\n",
    "import matplotlib.pyplot as plt\n",
    "from  pydynpd import regression\n",
    "import  pydynpd as regg\n",
    "\n",
    "from linearmodels import PanelOLS\n",
    "from scipy import optimize\n"
   ]
  },
  {
   "cell_type": "code",
   "execution_count": 4,
   "metadata": {},
   "outputs": [],
   "source": [
    "#Paramètre du modèle + génération des espilon\n",
    "random.seed(2040)\n",
    "n=100\n",
    "T=10\n",
    "phizero=0.4\n",
    "a=np.array([np.random.normal(0,1) for i in range(n)])\n",
    "y0=np.array([np.random.normal(a[i]/(1-phizero),1/np.sqrt(1-phizero**2)) for i in range(n)])\n",
    "epsilon=[np.random.normal(0,1) for i in range(n*T)]"
   ]
  },
  {
   "cell_type": "markdown",
   "metadata": {},
   "source": [
    "We generate the data in a matrix of dimension $N \\times T$ with individuals in rows and the time in column.\n",
    "\n",
    "$y_{i,t} = \\phi_0 y_{i,t-1}+a_i+\\epsilon_{i,t}$, with $a_i\\sim N(0,1)$, $\\epsilon_{i,t}\\sim N(0,1)$ and $y_{i0}\\sim N(\\frac{a_i}{1-\\phi_0},\\frac{1}{\\sqrt{1-\\phi_0^2}})$"
   ]
  },
  {
   "cell_type": "code",
   "execution_count": 5,
   "metadata": {},
   "outputs": [],
   "source": [
    "y=np.zeros((T,n))\n",
    "y[0]=y0\n",
    "y=y.T\n",
    "for i in range(n):\n",
    "    for j in range(1,T):\n",
    "        y[i][j]=a[i]+phizero*y[i][j-1]+epsilon[i*T+j]\n",
    "\n",
    "yit=y.reshape(n*T)"
   ]
  },
  {
   "cell_type": "code",
   "execution_count": 6,
   "metadata": {},
   "outputs": [],
   "source": [
    "#Generation des first difference :\n",
    "delta_y=np.zeros((n,T-1))\n",
    "for i in range(n):\n",
    "    for j in range(T-1):\n",
    "        delta_y[i,j]=y[i,j+1]-y[i,j]"
   ]
  },
  {
   "cell_type": "markdown",
   "metadata": {},
   "source": [
    "- GMM estimator (Andersen and Hsiao)\n",
    "\n",
    "To compute the GMM, we de to use the pydynpd package (see https://github.com/dazhwu/pydynpd/blob/main/vignettes/Tutorial.ipynb).\n",
    "We now define our model without the individual and time dummies (so a simple AR(1)), and the instruments we use after the \"|\" (we use all lags of order greater or equal to 2, consistently with equation (5) of the paper)."
   ]
  },
  {
   "cell_type": "code",
   "execution_count": 7,
   "metadata": {},
   "outputs": [],
   "source": [
    "def data(y,n):\n",
    "    df = pd.DataFrame(y)\n",
    "    df = df.add_prefix('Y')\n",
    "    df['id'] = range(n)\n",
    "    df = pd.wide_to_long(df, \"Y\", i=\"id\", j=\"time\")\n",
    "    df = df.reset_index(level=['id', 'time'])\n",
    "    df = df.sort_values(by=['id', 'time'])\n",
    "    return(df)"
   ]
  },
  {
   "cell_type": "code",
   "execution_count": 8,
   "metadata": {},
   "outputs": [],
   "source": [
    "df = data(y,n)\n",
    "command_str='Y L1.Y | gmm(Y, 2:.)'"
   ]
  },
  {
   "cell_type": "code",
   "execution_count": 9,
   "metadata": {},
   "outputs": [
    {
     "name": "stdout",
     "output_type": "stream",
     "text": [
      " Dynamic panel-data estimation, two-step system GMM\n",
      " Group variable: id                               Number of obs = 900     \n",
      " Time variable: time                              Min obs per group: 9    \n",
      " Number of instruments = 45                       Max obs per group: 9    \n",
      " Number of groups = 100                           Avg obs per group: 9.00 \n",
      "+------+------------+---------------------+------------+-----------+-----+\n",
      "|  Y   |   coef.    | Corrected Std. Err. |     z      |   P>|z|   |     |\n",
      "+------+------------+---------------------+------------+-----------+-----+\n",
      "| L1.Y | 0.4526354  |      0.0467176      | 9.6887633  | 0.0000000 | *** |\n",
      "| _con | -0.0776375 |      0.1052101      | -0.7379281 | 0.4605581 |     |\n",
      "+------+------------+---------------------+------------+-----------+-----+\n",
      "Hansen test of overid. restrictions: chi(43) = 47.428 Prob > Chi2 = 0.297\n",
      "Arellano-Bond test for AR(1) in first differences: z = -6.74 Pr > z =0.000\n",
      "Arellano-Bond test for AR(2) in first differences: z = 1.26 Pr > z =0.209\n",
      "\n",
      " Dynamic panel-data estimation, two-step system GMM\n",
      " Group variable: id                               Number of obs = 900     \n",
      " Time variable: time                              Min obs per group: 9    \n",
      " Number of instruments = 45                       Max obs per group: 9    \n",
      " Number of groups = 100                           Avg obs per group: 9.00 \n",
      "+------+------------+---------------------+------------+-----------+-----+\n",
      "|  Y   |   coef.    | Corrected Std. Err. |     z      |   P>|z|   |     |\n",
      "+------+------------+---------------------+------------+-----------+-----+\n",
      "| L1.Y | 0.4526354  |      0.0467176      | 9.6887633  | 0.0000000 | *** |\n",
      "| _con | -0.0776375 |      0.1052101      | -0.7379281 | 0.4605581 |     |\n",
      "+------+------------+---------------------+------------+-----------+-----+\n",
      "Hansen test of overid. restrictions: chi(43) = 47.428 Prob > Chi2 = 0.297\n",
      "Arellano-Bond test for AR(1) in first differences: z = -6.74 Pr > z =0.000\n",
      "Arellano-Bond test for AR(2) in first differences: z = 1.26 Pr > z =0.209\n",
      "\n"
     ]
    },
    {
     "data": {
      "text/plain": [
       "0.4526353683747971"
      ]
     },
     "execution_count": 9,
     "metadata": {},
     "output_type": "execute_result"
    }
   ],
   "source": [
    "#Print the result of the regression\n",
    "mydpd = regression.abond(command_str, df, ['id', 'time'])\n",
    "\n",
    "#Extract the result\n",
    "user_command=regg.command.command(command_str,df.columns)\n",
    "pdata = regg.panel_data.panel_data(df,  ['id', 'time'], user_command.variables, user_command.options)\n",
    "model=regg.dynamic_panel_model.dynamic_panel_model(pdata, user_command.variables, user_command.options, command_str, user_command.part_2, user_command.part_3)\n",
    "mydpd.regular_process(model)\n",
    "mydpd.form_results(model)\n",
    "model.regression_table[\"coefficient\"][0]"
   ]
  },
  {
   "cell_type": "code",
   "execution_count": 10,
   "metadata": {},
   "outputs": [
    {
     "name": "stdout",
     "output_type": "stream",
     "text": [
      " Dynamic panel-data estimation, two-step system GMM\n",
      " Group variable: id                               Number of obs = 900     \n",
      " Time variable: time                              Min obs per group: 9    \n",
      " Number of instruments = 45                       Max obs per group: 9    \n",
      " Number of groups = 100                           Avg obs per group: 9.00 \n",
      "+------+------------+---------------------+------------+-----------+-----+\n",
      "|  Y   |   coef.    | Corrected Std. Err. |     z      |   P>|z|   |     |\n",
      "+------+------------+---------------------+------------+-----------+-----+\n",
      "| L1.Y | 0.4526354  |      0.0467176      | 9.6887633  | 0.0000000 | *** |\n",
      "| _con | -0.0776375 |      0.1052101      | -0.7379281 | 0.4605581 |     |\n",
      "+------+------------+---------------------+------------+-----------+-----+\n",
      "Hansen test of overid. restrictions: chi(43) = 47.428 Prob > Chi2 = 0.297\n",
      "Arellano-Bond test for AR(1) in first differences: z = -6.74 Pr > z =0.000\n",
      "Arellano-Bond test for AR(2) in first differences: z = 1.26 Pr > z =0.209\n",
      "\n",
      " Dynamic panel-data estimation, two-step system GMM\n",
      " Group variable: id                               Number of obs = 900     \n",
      " Time variable: time                              Min obs per group: 9    \n",
      " Number of instruments = 45                       Max obs per group: 9    \n",
      " Number of groups = 100                           Avg obs per group: 9.00 \n",
      "+------+------------+---------------------+------------+-----------+-----+\n",
      "|  Y   |   coef.    | Corrected Std. Err. |     z      |   P>|z|   |     |\n",
      "+------+------------+---------------------+------------+-----------+-----+\n",
      "| L1.Y | 0.4526354  |      0.0467176      | 9.6887633  | 0.0000000 | *** |\n",
      "| _con | -0.0776375 |      0.1052101      | -0.7379281 | 0.4605581 |     |\n",
      "+------+------------+---------------------+------------+-----------+-----+\n",
      "Hansen test of overid. restrictions: chi(43) = 47.428 Prob > Chi2 = 0.297\n",
      "Arellano-Bond test for AR(1) in first differences: z = -6.74 Pr > z =0.000\n",
      "Arellano-Bond test for AR(2) in first differences: z = 1.26 Pr > z =0.209\n",
      "\n"
     ]
    },
    {
     "data": {
      "text/plain": [
       "0.4526353683747971"
      ]
     },
     "execution_count": 10,
     "metadata": {},
     "output_type": "execute_result"
    }
   ],
   "source": [
    "#Function that gather the computation of GMM in a given data set\n",
    "def GMM_estim(y,n,T):\n",
    "    def data(y,n):\n",
    "        df = pd.DataFrame(y)\n",
    "        df = df.add_prefix('Y')\n",
    "        df['id'] = range(n)\n",
    "        df = pd.wide_to_long(df, \"Y\", i=\"id\", j=\"time\")\n",
    "        df = df.reset_index(level=['id', 'time'])\n",
    "        df = df.sort_values(by=['id', 'time'])\n",
    "        return(df)\n",
    "\n",
    "    df = data(y,n)\n",
    "    command_str='Y L1.Y | gmm(Y, 2:.)'\n",
    "    \n",
    "    mydpd = regression.abond(command_str, df, ['id', 'time'])\n",
    "    user_command=regg.command.command(command_str,df.columns)\n",
    "    pdata = regg.panel_data.panel_data(df,  ['id', 'time'], user_command.variables, user_command.options)\n",
    "    model=regg.dynamic_panel_model.dynamic_panel_model(pdata, user_command.variables, user_command.options, command_str, user_command.part_2, user_command.part_3)\n",
    "\n",
    "    mydpd.regular_process(model)\n",
    "    mydpd.form_results(model)\n",
    "    estim=model.regression_table[\"coefficient\"][0]\n",
    "    \n",
    "    return estim\n",
    "\n",
    "GMM_estim(y,n,T)"
   ]
  },
  {
   "cell_type": "markdown",
   "metadata": {},
   "source": [
    "- Estimator of Han et Phillips \n",
    "\n",
    "We use here the generalized method of moments based on the moment : $$E(\\Delta y_{it-1} \\times [(2 \\Delta y_{it} + \\Delta y_{it-1})-\\phi\\Delta y_{it-1}])$$. \n",
    "\n",
    "The empirical counterpart of this condition gives the following estimators :\n",
    "$$\\hat(\\phi)^{HP}=\\frac{\\sum_{i=1}^N\\sum_{t=1}^T \\Delta y_{it-1}(2\\Delta y_{it-1}+\\Delta y_{it-1})}{\\sum_{i=1}^N\\sum_{t=1}^T \\Delta y_{it-1}^2}$$"
   ]
  },
  {
   "cell_type": "code",
   "execution_count": 11,
   "metadata": {},
   "outputs": [
    {
     "data": {
      "text/plain": [
       "0.3650641106433443"
      ]
     },
     "execution_count": 11,
     "metadata": {},
     "output_type": "execute_result"
    }
   ],
   "source": [
    "def HP_estim_direct(y,n,T):\n",
    "    #Implémentation directe\n",
    "    numerateur=0\n",
    "    denominateur=0\n",
    "    for i in range(n) :\n",
    "        for t in range(T):\n",
    "            delta_1=y[i,t-1]-y[i,t-2]\n",
    "            delta=y[i,t]-y[i,t-1]\n",
    "            numerateur+=delta_1*(2*delta+delta_1)\n",
    "            denominateur+=(delta_1)**2\n",
    "\n",
    "    estim=numerateur/denominateur\n",
    "   # print(\"Estimation directe: \",estim)\n",
    "    return estim\n",
    "\n",
    "HP_estim_direct(y,n,T)\n"
   ]
  },
  {
   "cell_type": "markdown",
   "metadata": {},
   "source": [
    "- Fixed effect maximum likelihood estimator\n",
    "\n",
    "We compute the formula given in the paper : \n",
    "$$\\hat{\\phi}^{ML}=(y'_-Ay_-)^{-1}y'_-Ay$$\n",
    "Where $y=(y_1,...,y_N)$ and $y_-=(y_{1-},...,y_{N-})$   with $y_i=(y_{i1},...,y_{iT})'$ and $y_i=(y_{i0},...,y_{iT-1})'$ , $A=I_N\\otimes A_T$ with $A_T=I_T-\\frac{1}{T}\\iota'_T\\iota_T$"
   ]
  },
  {
   "cell_type": "code",
   "execution_count": 15,
   "metadata": {},
   "outputs": [],
   "source": [
    "#Formule du papier pour l'estimateur\n",
    "def ML_papier(y,n,T):\n",
    "    mat_y_=y[:,:T-1]\n",
    "    mat_y=y[:,1:]\n",
    "    \n",
    "    y=mat_y.reshape(n*(T-1),1)\n",
    "    y_=mat_y_.reshape(n*(T-1),1)\n",
    "    \n",
    "    i=np.array([np.ones(T-1)])\n",
    "    A=np.kron(np.eye(n,n),(np.eye(T-1,T-1)-(1/(T-1))*i.T@i))\n",
    "    \n",
    "    phi_ML_aux=np.linalg.inv((y_.T)@A@y_)@((y_.T)@A@y)\n",
    "    \n",
    "    return phi_ML_aux"
   ]
  },
  {
   "cell_type": "markdown",
   "metadata": {},
   "source": [
    "- Estimator of Hahn-Kuersteiner\n",
    "\n",
    "This estimator is a debiased maximum likelyhood estimator. The formula is directly given in the paper."
   ]
  },
  {
   "cell_type": "code",
   "execution_count": 16,
   "metadata": {},
   "outputs": [],
   "source": [
    "def HK_estim_bis(y,n,T):\n",
    "    theta = float(ML_papier(y,n,T))\n",
    "    HK_estimate = ((T+1)/T)*theta + 1/T\n",
    "    return(HK_estimate)\n"
   ]
  },
  {
   "cell_type": "markdown",
   "metadata": {},
   "source": [
    "- Indirect inference estimator\n",
    "\n",
    "1) We create a function that generate data for a given phi\n",
    "\n",
    "2) We compute the binding function \n",
    "\n",
    "3) We minimise the distance between the binding function over the simulated data and over the real data"
   ]
  },
  {
   "cell_type": "code",
   "execution_count": 17,
   "metadata": {},
   "outputs": [],
   "source": [
    "#Generate the data as at the beginning of the notebook\n",
    "random.seed(2040)\n",
    "def gener_donne(phi,n,T):\n",
    "    phizero=float(phi)\n",
    "    a=np.array([np.random.normal(0,1) for i in range(n)])\n",
    "    y0=np.array([np.random.normal(a[i]/(1-phizero),1/np.sqrt(1-phizero**2)) for i in range(n)])\n",
    "    epsilon=[np.random.normal(0,1) for i in range(n*T)]\n",
    "    y=np.zeros((T,n))\n",
    "    y[0]=y0\n",
    "    y=y.T\n",
    "    for i in range(n):\n",
    "        for j in range(1,T):\n",
    "            y[i][j]=a[i]+phizero*y[i][j-1]+epsilon[i*T+j]\n",
    "    \n",
    "    return y\n",
    "\n"
   ]
  },
  {
   "cell_type": "markdown",
   "metadata": {},
   "source": [
    "This function allows to save time by using again the same set of $\\epsilon_{it}$, $a_i$ and similar $y_0$ \n"
   ]
  },
  {
   "cell_type": "code",
   "execution_count": 18,
   "metadata": {},
   "outputs": [],
   "source": [
    "def gener_donne_partielle(phi,n,T,a,y0_,espsilon):\n",
    "    phizero=float(phi)\n",
    "    y=np.zeros((T,n))\n",
    "    y0=(y0_+a/(1-phizero))*(1/np.sqrt(1-phizero**2))\n",
    "    y[0]=y0\n",
    "    y=y.T\n",
    "    for i in range(n):\n",
    "        for j in range(1,T):\n",
    "            y[i][j]=a[i]+phizero*y[i][j-1]+epsilon[i*T+j]\n",
    "    \n",
    "    return y\n",
    "    "
   ]
  },
  {
   "cell_type": "code",
   "execution_count": 19,
   "metadata": {},
   "outputs": [],
   "source": [
    "#Compute of the simulated binding function\n",
    "def b_NT(phi,H,n,T,a,y0_,epsilon):\n",
    "    b_simul=[ML_papier(gener_donne_partielle(phi,n,T,a[H],y0_[H],epsilon[H]),n,T) for H in range(H)]\n",
    "    return np.mean(b_simul)"
   ]
  },
  {
   "cell_type": "code",
   "execution_count": 20,
   "metadata": {},
   "outputs": [
    {
     "name": "stderr",
     "output_type": "stream",
     "text": [
      "C:\\Users\\gaet9\\Anaconda3\\lib\\site-packages\\numpy\\core\\fromnumeric.py:87: VisibleDeprecationWarning: Creating an ndarray from ragged nested sequences (which is a list-or-tuple of lists-or-tuples-or ndarrays with different lengths or shapes) is deprecated. If you meant to do this, you must specify 'dtype=object' when creating the ndarray\n",
      "  return ufunc.reduce(obj, axis, dtype, out, **passkwargs)\n"
     ]
    },
    {
     "data": {
      "text/plain": [
       "0.3877313435404625"
      ]
     },
     "execution_count": 20,
     "metadata": {},
     "output_type": "execute_result"
    }
   ],
   "source": [
    "#Minimization of the distance between simulated phi and real phi\n",
    "\n",
    "def estim_indirect(H,y,n,T):\n",
    "    x=ML_papier(y,n,T)\n",
    "    \n",
    "    a=[np.array([np.random.normal(0,1) for i in range(n)]) for h in range(H)]\n",
    "    y0=[np.array([np.random.normal(0,1) for i in range(n)]) for h in range(H)]\n",
    "    epsilon=[[np.random.normal(0,1) for i in range(n*T)] for h in range(H)]\n",
    "    \n",
    "    def ecartL2(phi):\n",
    "        return abs(x-b_NT(phi,H,n,T,a,y0,epsilon))**2\n",
    "    \n",
    "    return minimize_scalar(ecartL2,method=\"bounded\", bounds=(0.01,0.99)).x[0][0]\n",
    "\n",
    "\n",
    "estim_indirect(100,y,n,T)"
   ]
  },
  {
   "cell_type": "markdown",
   "metadata": {},
   "source": [
    "We can plot the binding function for different value of N and T."
   ]
  },
  {
   "cell_type": "code",
   "execution_count": 21,
   "metadata": {},
   "outputs": [
    {
     "name": "stdout",
     "output_type": "stream",
     "text": [
      "[0.   0.1  0.2  0.3  0.4  0.5  0.6  0.7  0.8  0.9  0.99]\n"
     ]
    },
    {
     "data": {
      "image/png": "[encoded data removed]",
      "text/plain": [
       "<Figure size 432x288 with 1 Axes>"
      ]
     },
     "metadata": {
      "needs_background": "light"
     },
     "output_type": "display_data"
    }
   ],
   "source": [
    "x=np.linspace(0,0.9,10)\n",
    "x=np.append(x,0.99)\n",
    "print(x)\n",
    "liste_T=[5,10,20]\n",
    "type_ligne=[\"r--\",\"b--\",\"c--\"]\n",
    "\n",
    "\n",
    "for t in range(len(liste_T)) :\n",
    "    binding=[]\n",
    "    T=liste_T[t]\n",
    "    for i in x :\n",
    "        estim=[]\n",
    "        for a in range(20):\n",
    "            y_rep=gener_donne(i,n,T)\n",
    "            estim+=[ML_papier(y_rep,n,T)]\n",
    "        binding+=[np.mean(estim)]\n",
    "    \n",
    "    plt.plot(x,binding,type_ligne[t],label=\"N=\"+str(n)+\", T=\"+str(T)) \n",
    "\n",
    "    \n",
    "plt.plot(x,x,\"orange\",label=\"45 degree line\")\n",
    "plt.grid(color='black', linestyle='dotted', linewidth=1)\n",
    "plt.legend()\n",
    "plt.xlabel('True value for \\u03D5')\n",
    "plt.ylabel('Binding functions')\n",
    "plt.show()\n",
    "    "
   ]
  },
  {
   "cell_type": "markdown",
   "metadata": {},
   "source": []
  },
  {
   "cell_type": "markdown",
   "metadata": {},
   "source": [
    "- Comparison of different models"
   ]
  },
  {
   "cell_type": "code",
   "execution_count": 22,
   "metadata": {},
   "outputs": [
    {
     "data": {
      "text/plain": [
       "0.41231056256176607"
      ]
     },
     "execution_count": 22,
     "metadata": {},
     "output_type": "execute_result"
    }
   ],
   "source": [
    "def RMSE(phi_estim_vec,phi):\n",
    "    return np.sqrt(np.mean((np.array(phi_estim_vec)-np.array([phi]*len(phi_estim_vec)))**2))\n",
    "\n",
    "\n",
    "RMSE([1,0.6,0],0.5)"
   ]
  },
  {
   "cell_type": "markdown",
   "metadata": {},
   "source": [
    "The function bellow computes the average bias and the root mean squared eror of a given estimator for a given number of replication"
   ]
  },
  {
   "cell_type": "code",
   "execution_count": null,
   "metadata": {},
   "outputs": [],
   "source": [
    "def estim_ind(H):\n",
    "    def estim_ind (y,n,T):\n",
    "        return estim_indirect_bis(H,y,n,T)\n",
    "    \n",
    "    return estim_ind\n",
    "\n",
    "#Fonction qui prend nb de replic, phi, n, T, l'estimateur\n",
    "\n",
    "def replic_estim(n_replic,phi,n,T,fonction, verbose=False) :\n",
    "    estim=[]\n",
    "    for i in range(n_replic) :\n",
    "        y=gener_donne(phi,n,T)\n",
    "        estim+=[fonction(y,n,T)] \n",
    "        if(verbose):\n",
    "            print(i)\n",
    "    biais=np.mean(np.array(estim))-phi\n",
    "    RMSE_mod=RMSE(estim,phi)\n",
    "        \n",
    "    return biais,RMSE_mod\n",
    "\n",
    "print(replic_estim(n_replic=10,phi=0.5,n=100,T=10,fonction=HK_estim))\n",
    "print(replic_estim(n_replic=10,phi=0.5,n=100,T=10,fonction=HP_estim_direct))\n",
    "print(replic_estim(n_replic=10,phi=0.5,n=100,T=10,fonction=estim_ind(5), verbose=True))\n"
   ]
  },
  {
   "cell_type": "markdown",
   "metadata": {},
   "source": [
    "We generate those parameters for the same value of N, T and $\\phi_0$ as in the paper. "
   ]
  },
  {
   "cell_type": "code",
   "execution_count": null,
   "metadata": {},
   "outputs": [],
   "source": [
    "T_liste=[5]*8+[10]*8+[20]*8\n",
    "N_liste=(([100]*4+[200]*4)*3)\n",
    "phi_liste=[0,0.3,0.6,0.9]*6\n",
    "resultat=pd.DataFrame(np.zeros((24,13)), columns=[\"T\",\"N\",\"phi\",\"Biais GMM\", \"Biais ML\",\"Biais HK\", \"Biais HP\", \"Biais indirect\",\n",
    "                                                  \"RMSE GMM\", \"RMSE ML\",\"RMSE HK\", \"RMSE HP\", \"RMSE indirect\"])\n",
    "resultat[\"T\"]=T_liste\n",
    "resultat[\"N\"]=N_liste\n",
    "resultat[\"phi\"]=phi_liste\n",
    "\n",
    "resultat\n",
    "n_replic=30\n",
    "for i in range(3):\n",
    "    N=resultat[\"N\"][i]\n",
    "    T=resultat[\"T\"][i]\n",
    "    phi=resultat[\"phi\"][i]\n",
    "    print(N,T,phi)\n",
    "    \n",
    "    (resultat[\"Biais GMM\"][i],resultat[\"RMSE GMM\"][i])=replic_estim(n_replic=n_replic,phi=phi,n=N,T=T,fonction=GMM_estim)\n",
    "    (resultat[\"Biais ML\"][i],resultat[\"RMSE ML\"][i])=replic_estim(n_replic=n_replic,phi=phi,n=N,T=T,fonction=ML_papier)\n",
    "    (resultat[\"Biais HK\"][i],resultat[\"RMSE HK\"][i])=replic_estim(n_replic=n_replic,phi=phi,n=N,T=T,fonction=HK_estim_bis)\n",
    "    (resultat[\"Biais HP\"][i],resultat[\"RMSE HP\"][i])=replic_estim(n_replic=n_replic,phi=phi,n=N,T=T,fonction=HP_estim_direct)\n",
    "    (resultat[\"Biais indirect\"][i],resultat[\"RMSE indirect\"][i])=replic_estim(n_replic=n_replic,phi=phi,n=N,T=T,fonction=estim_ind(5))\n",
    "    \n",
    "   "
   ]
  },
  {
   "cell_type": "markdown",
   "metadata": {},
   "source": [
    "We compute the average time taken to compute each estimator over five random data set."
   ]
  },
  {
   "cell_type": "code",
   "execution_count": null,
   "metadata": {},
   "outputs": [],
   "source": [
    "tempsGMM=[]\n",
    "tempsML=[]\n",
    "tempsHK=[]\n",
    "tempsHP=[]\n",
    "tempsII=[]\n",
    "\n",
    "n=100\n",
    "T=20\n",
    "donnee_tps=pd.DataFrame(np.zeros((2,6)),columns=[\"phi\",\"Times GMM\",\"Times ML\",\"Times HP\",\"Times HK\",\"Times II\"])\n",
    "phi_l=[0.5,0.75]\n",
    "for j in range(2):\n",
    "    tempsGMM=[]\n",
    "    tempsML=[]\n",
    "    tempsHK=[]\n",
    "    tempsHP=[]\n",
    "    tempsII=[]\n",
    "    phi=phi_l[j]\n",
    "    for i in range(5):\n",
    "        y=gener_donne(phi,n,T)\n",
    "\n",
    "        start_time = time.time()\n",
    "        print(GMM_estim(y,n,T))\n",
    "        tempsGMM += [(time.time() - start_time)]\n",
    "\n",
    "        start_time = time.time()\n",
    "        print(ML_papier(y,n,T))\n",
    "        tempsML +=[(time.time() - start_time)]\n",
    "\n",
    "        start_time = time.time()\n",
    "        print(HP_estim_direct(y,n,T))\n",
    "        tempsHP += [(time.time() - start_time)]\n",
    "        \n",
    "        print(\"CA CONTINUEEEE\", i)\n",
    "        start_time = time.time()\n",
    "        print(HK_estim_bis(y,n,T))\n",
    "        tempsHK += [(time.time() - start_time)]\n",
    "\n",
    "        start_time = time.time()\n",
    "        print(estim_ind(5)(y,n,T))\n",
    "        tempsII += [(time.time() - start_time)]\n",
    "        \n",
    "    \n",
    "    tempsGMM=np.array(tempsGMM)\n",
    "    tempsML=np.array(tempsML)\n",
    "    tempsHP=np.array(tempsHP)\n",
    "    tempsHK=np.array(tempsHK)\n",
    "    tempsGMM=np.array(tempsGMM)\n",
    "    \n",
    "    donnee_tps.iloc[j]=[phi,np.mean(tempsGMM),np.mean(tempsML),np.mean(tempsHP),np.mean(tempsHK),np.mean(tempsII)]\n",
    "    \n",
    "\n",
    "\n",
    "\n",
    " \n",
    "   "
   ]
  },
  {
   "cell_type": "markdown",
   "metadata": {},
   "source": [
    "## Extensions"
   ]
  },
  {
   "cell_type": "markdown",
   "metadata": {},
   "source": [
    "Now we evaluate the results of indirect inference for models that are more complicated than the AR(1). In the paper, the authors consider adding exogenous covariates or a time trend. We propose to extend their work in 2 other directions: by adding one lag (AR(2)) and by introducing non-linearity (probit AR(1))."
   ]
  },
  {
   "cell_type": "markdown",
   "metadata": {},
   "source": [
    "### AR(2)"
   ]
  },
  {
   "cell_type": "code",
   "execution_count": null,
   "metadata": {},
   "outputs": [],
   "source": [
    "#function that computes biased coeff of first lag in AR(2)\n",
    "def theta_AR2(y,n):\n",
    "    df = data(y,n)\n",
    "    df['Ylag'] = df.groupby('id')['Y'].shift()\n",
    "    df['Ylag2'] = df.groupby('id')['Y'].shift(2)\n",
    "    df = df.set_index(['id','time'])\n",
    "    mod = PanelOLS.from_formula('Y ~ Ylag + Ylag2 + EntityEffects', df)\n",
    "    est = mod.fit(cov_type='homoskedastic')\n",
    "    theta = est.params[0]\n",
    "    return(theta)"
   ]
  },
  {
   "cell_type": "code",
   "execution_count": null,
   "metadata": {},
   "outputs": [],
   "source": [
    "#Exactement la même chose qu'au début\n",
    "random.seed(2040)\n",
    "def gener_donne_AR2(phi1,phi2,n,T):\n",
    "    phi1=float(phi1)\n",
    "    phi2=float(phi2)\n",
    "    a=np.array([np.random.normal(0,1) for i in range(n)])\n",
    "    y0=np.array([np.random.normal(a[i]/(1-phi1-phi2),np.sqrt((1-phi2)/((1+phi2)*(1-phi1-phi2)*(1+phi1-phi2)))) for i in range(n)])\n",
    "    y1=np.array([np.random.normal(a[i]/(1-phi1-phi2),np.sqrt((1-phi2)/((1+phi2)*(1-phi1-phi2)*(1+phi1-phi2)))) for i in range(n)])\n",
    "    epsilon=[np.random.normal(0,1) for i in range(n*T)]\n",
    "    y=np.zeros((T,n))\n",
    "    y[0]=y0\n",
    "    y[1]=y1\n",
    "    y=y.T\n",
    "    for i in range(n):\n",
    "        for j in range(2,T):\n",
    "            y[i][j]=a[i]+phi1*y[i][j-1]+phi2*y[i][j-2]+epsilon[i*T+j]\n",
    "    \n",
    "    return y"
   ]
  },
  {
   "cell_type": "code",
   "execution_count": null,
   "metadata": {},
   "outputs": [],
   "source": [
    "def gener_donne_partielle_AR2(phi1,phi2,n,T,a,y0_,y1_,espsilon):\n",
    "    phi1=float(phi1)\n",
    "    phi2=float(phi2)\n",
    "    y=np.zeros((T,n))\n",
    "    y0=(y0_+a/(1-phi1-phi2))*np.sqrt((1-phi2)/((1+phi2)*(1-phi1-phi2)*(1+phi1-phi2)))\n",
    "    y1=(y1_+a/(1-phi1-phi2))*np.sqrt((1-phi2)/((1+phi2)*(1-phi1-phi2)*(1+phi1-phi2)))\n",
    "    y[0]=y0\n",
    "    y[1]=y1\n",
    "    y=y.T\n",
    "    for i in range(n):\n",
    "        for j in range(2,T):\n",
    "            y[i][j]=a[i]+phi1*y[i][j-1]+phi2*y[i][j-2]+epsilon[i*T+j]\n",
    "    \n",
    "    return y\n",
    "    "
   ]
  },
  {
   "cell_type": "code",
   "execution_count": null,
   "metadata": {},
   "outputs": [],
   "source": [
    "#we redefine the indirect inference function according to this new parameter\n",
    "\n",
    "def b_NT_AR2(phi1,phi2,H,n,T,a,y0_,y1_,epsilon):\n",
    "    b_simul=[theta_AR2(gener_donne_partielle_AR2(phi1,phi2,n,T,a[H],y0_[H],y1_[H],epsilon[H]),n) for H in range(H)]\n",
    "    return np.mean(b_simul)\n",
    "\n",
    "def estim_indirect_AR2(H,y,n,T):\n",
    "    x=theta_AR2(y,n)\n",
    "    \n",
    "    a=[np.array([np.random.normal(0,1) for i in range(n)]) for h in range(H)]\n",
    "    y0=[np.array([np.random.normal(0,1) for i in range(n)]) for h in range(H)]\n",
    "    y1=[np.array([np.random.normal(0,1) for i in range(n)]) for h in range(H)]\n",
    "    epsilon=[[np.random.normal(0,1) for i in range(n*T)] for h in range(H)]\n",
    "    \n",
    "    def ecartL2(phi):\n",
    "        return abs(x-b_NT_AR2(phi[0],phi[1],H,n,T,a,y0,y1,epsilon))**2\n",
    "    \n",
    "    return optimize.fmin_bfgs(ecartL2, x0 = [0,0])[0] #,method=\"bounded\", bounds=(0.01,0.99)).x[0][0]\n",
    "    #return minimize_scalar(ecartL2,method=\"bounded\", bounds=(0.01,0.99)).x[0][0]"
   ]
  },
  {
   "cell_type": "markdown",
   "metadata": {},
   "source": [
    "We generate data from an AR(2) model, assuming that y0 and y1 follow the stationnary distribution of the AR(2) process."
   ]
  },
  {
   "cell_type": "code",
   "execution_count": null,
   "metadata": {},
   "outputs": [],
   "source": [
    "#Paramètre du modèle + génération des espilon\n",
    "random.seed(2040)\n",
    "n=100\n",
    "T=10\n",
    "phi1=0.7\n",
    "phi2=0.2\n",
    "a=np.array([np.random.normal(0,1) for i in range(n)])\n",
    "y0=np.array([np.random.normal(a[i]/(1-phi1-phi2),np.sqrt((1-phi2)/((1+phi2)*(1-phi1-phi2)*(1+phi1-phi2)))) for i in range(n)])\n",
    "y1=np.array([np.random.normal(a[i]/(1-phi1-phi2),np.sqrt((1-phi2)/((1+phi2)*(1-phi1-phi2)*(1+phi1-phi2)))) for i in range(n)])\n",
    "epsilon=[np.random.normal(0,1) for i in range(n*T)]"
   ]
  },
  {
   "cell_type": "markdown",
   "metadata": {},
   "source": [
    "On génère les données dans une matrice y de taille $N \\times T$ avec en ligne les i et en colonne les T selon la formule :\n",
    "$y_{i,t} = \\phi_{1} y_{i,t-1} + \\phi_{2} y_{i,t-2} + a_i + \\epsilon_{i,t}$"
   ]
  },
  {
   "cell_type": "code",
   "execution_count": null,
   "metadata": {},
   "outputs": [],
   "source": [
    "y=np.zeros((T,n))\n",
    "y[0]=y0\n",
    "y[1]=y1\n",
    "y=y.T\n",
    "for i in range(n):\n",
    "    for j in range(2,T):\n",
    "        y[i][j]=a[i]+phi1*y[i][j-1]+phi2*y[i][j-2]+epsilon[i*T+j]"
   ]
  },
  {
   "cell_type": "code",
   "execution_count": null,
   "metadata": {},
   "outputs": [],
   "source": [
    "estim_indirect_AR2(10,y,n,T)"
   ]
  },
  {
   "cell_type": "code",
   "execution_count": null,
   "metadata": {},
   "outputs": [],
   "source": [
    "def estim_ind(H):\n",
    "    def estim_ind (y,n,T):\n",
    "        return estim_indirect_AR2(H,y,n,T)\n",
    "\n",
    "    return estim_ind\n",
    "\n",
    "#Fonction qui prend nb de replic, phi, n, T, l'estimateur\n",
    "\n",
    "def replic_estim_AR2(n_replic,phi1,phi2,n,T,fonction, verbose=False) :\n",
    "    estim=[]\n",
    "    for i in range(n_replic) :\n",
    "        y=gener_donne_AR2(phi1,phi2,n,T)\n",
    "        estim+=[fonction(y,n,T)] \n",
    "        if(verbose):\n",
    "            print(i)\n",
    "    biais=np.mean(np.array(estim))-phi1\n",
    "    RMSE_mod=RMSE(estim,phi1)\n",
    "        \n",
    "    return biais,RMSE_mod"
   ]
  },
  {
   "cell_type": "code",
   "execution_count": null,
   "metadata": {},
   "outputs": [],
   "source": [
    "T_liste=[10]*4\n",
    "N_liste=[100]*4\n",
    "phi1_liste=[0.5]*2 + [0.75]*2\n",
    "phi2_liste=([-0.1,0.2])*2\n",
    "resultat=pd.DataFrame(np.zeros((4,6)), columns=[\"T\",\"N\",\"phi1\", \"phi2\", \"Biais indirect\", \"RMSE indirect\"])\n",
    "resultat[\"T\"]=T_liste\n",
    "resultat[\"N\"]=N_liste\n",
    "resultat[\"phi1\"]=phi1_liste\n",
    "resultat[\"phi2\"]=phi2_liste\n",
    "\n",
    "resultat\n",
    "n_replic=10\n",
    "for i in range(4):\n",
    "    N=resultat[\"N\"][i]\n",
    "    T=resultat[\"T\"][i]\n",
    "    phi1=resultat[\"phi1\"][i]\n",
    "    phi2=resultat[\"phi2\"][i]\n",
    "    print(N,T,phi1,phi2)\n",
    "    \n",
    "    (resultat[\"Biais indirect\"][i],resultat[\"RMSE indirect\"][i])=replic_estim_AR2(n_replic=n_replic,phi1=phi1,phi2=phi2,n=N,T=T,fonction=estim_ind(10))\n",
    "    "
   ]
  },
  {
   "cell_type": "markdown",
   "metadata": {},
   "source": [
    "## Appendix"
   ]
  },
  {
   "cell_type": "markdown",
   "metadata": {},
   "source": [
    "Alternative method to compute HP estimator threw algorithmic minimization of the moment condition"
   ]
  },
  {
   "cell_type": "code",
   "execution_count": null,
   "metadata": {},
   "outputs": [],
   "source": [
    "def HP_estim_algo(y,n,T):\n",
    "    #implémentation par algo de maximisation\n",
    "    def moment_HP(i,rho):\n",
    "        moment_l=[]\n",
    "        for t in range(3,T):\n",
    "            delta_1=y[i,t-1]-y[i,t-2]\n",
    "            delta=y[i,t]-y[i,t-1]\n",
    "            moment_l+=[delta_1*(2*delta+delta_1)-rho*delta_1] \n",
    "        return moment_l\n",
    "\n",
    "    def GMM_HP(rho):\n",
    "        moments=[]\n",
    "        for i in range(n):\n",
    "            moments.append(np.array(moment_HP(i,rho)))\n",
    "        M=1/(n-1)*sum([moments[i] for i in range(n-1)])\n",
    "        return M@M.T\n",
    "\n",
    "    estim2=minimize_scalar(GMM_HP, tol=0.01)\n",
    "    print(\"Estimation par algo: \",estim2[\"x\"])  \n",
    "    \n",
    "    return(estim2)"
   ]
  },
  {
   "cell_type": "markdown",
   "metadata": {},
   "source": [
    "General formula for HK estimate"
   ]
  },
  {
   "cell_type": "code",
   "execution_count": null,
   "metadata": {},
   "outputs": [],
   "source": [
    "def HK_estim(y,n,T):\n",
    "    within_ = [1/T*sum([y[i][t-1] for t in range(1,T)]) for i in range(n)]\n",
    "    within = [1/T*sum([y[i][t] for t in range(1,T)]) for i in range(n)]\n",
    "\n",
    "    #Denominateur (le même pour OLS et HK, noté Upsilon):\n",
    "    Upsilon=0\n",
    "    for i in range(n):\n",
    "        for t in range(1,T):\n",
    "            Upsilon+=(y[i,t-1]-within_[i])**2\n",
    "\n",
    "    Upsilon*=1/(n*T)\n",
    "\n",
    "    #Numérateur (le même pour OLS et la première partie de HK)\n",
    "    HK_num_1=0\n",
    "    for i in range(n):\n",
    "        for t in range(1,T):\n",
    "            HK_num_1+=(y[i,t-1]-within_[i])*(y[i,t]-within_[i])\n",
    "    HK_num_1*=1/(n*T)\n",
    "\n",
    "    phi_OLS=HK_num_1/Upsilon\n",
    "\n",
    "    omega=(1-phi_OLS**2)*Upsilon\n",
    "\n",
    "    HK_num_2 = (1/T)*(1-phi_OLS)*omega\n",
    "\n",
    "    HK_estim=(HK_num_1+HK_num_2)/Upsilon\n",
    "    \n",
    "    return HK_estim\n",
    "\n",
    "print(HK_estim(y,n,T))"
   ]
  },
  {
   "cell_type": "markdown",
   "metadata": {},
   "source": [
    "Direct implementation of GMM "
   ]
  },
  {
   "cell_type": "code",
   "execution_count": null,
   "metadata": {},
   "outputs": [],
   "source": [
    "z=[]\n",
    "y\n",
    "#On parcours tous les individus\n",
    "for i in range(n):\n",
    "    #On ajoute une ligne avec un zéros qui symbolise t=1\n",
    "    z.append([[0]])\n",
    "    \n",
    "    #Pour tous les temps T>2, on ajoute les instruments jusqu'à yi0\n",
    "    for t in range(2,T):\n",
    "        instrument=[y[i,t-s] for s in range(2,t+1) ]\n",
    "        z[i].append(instrument)\n",
    "\n",
    "def h(rho,i,t):\n",
    "    instr=z[i][t]\n",
    "    return [inst*(delta_y[i,t]-rho*delta_y[i,t-1]) for inst in instr]\n",
    "\n",
    "#On agrège tous les moments d'un individu donné dans un vecteur \n",
    "def tab_h(i,rho):\n",
    "    tab_h=[]\n",
    "    for t in range(1,T-1):\n",
    "        tab_h+=h(rho,i,t)\n",
    "    return np.array(tab_h)\n",
    "\n",
    "#On définit le critère ci dessus.\n",
    "def critere(rho):\n",
    "    M=1/(n-1)*sum([tab_h(i,rho) for i in range(n-1)])\n",
    "    return M@M.T\n",
    "\n",
    "minimize_scalar(critere)"
   ]
  }
 ],
 "metadata": {
  "kernelspec": {
   "display_name": "Python 3",
   "language": "python",
   "name": "python3"
  },
  "language_info": {
   "codemirror_mode": {
    "name": "ipython",
    "version": 3
   },
   "file_extension": ".py",
   "mimetype": "text/x-python",
   "name": "python",
   "nbconvert_exporter": "python",
   "pygments_lexer": "ipython3",
   "version": "3.8.5"
  }
 },
 "nbformat": 4,
 "nbformat_minor": 4
}
