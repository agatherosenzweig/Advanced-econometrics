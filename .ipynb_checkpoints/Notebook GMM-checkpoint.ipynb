{
 "cells": [
  {
   "cell_type": "code",
   "execution_count": 1,
   "metadata": {},
   "outputs": [],
   "source": [
    "import random\n",
    "import numpy as np\n",
    "from sklearn.linear_model import LinearRegression\n",
    "from scipy.optimize import minimize_scalar\n"
   ]
  },
  {
   "cell_type": "code",
   "execution_count": 51,
   "metadata": {},
   "outputs": [],
   "source": [
    "#Paramètre du modèle + génération des espilon\n",
    "random.seed(2040)\n",
    "n=5\n",
    "T=5\n",
    "phizero=0.9\n",
    "a=np.array([np.random.normal(0,1) for i in range(n)])\n",
    "y0=np.array([np.random.normal(a[i]/(1-phizero),1/np.sqrt(1-phizero**2)) for i in range(n)])\n",
    "epsilon=[np.random.normal(0,1) for i in range(n*T)]"
   ]
  },
  {
   "cell_type": "markdown",
   "metadata": {},
   "source": [
    "On génère les données dans une matrice y de taille $N \\times T$ avec en ligne les i et en colonne les T selon la formule :\n",
    "$y_i,t = y_{i,t-1}+a_i+\\epsilon_{i,t}$"
   ]
  },
  {
   "cell_type": "code",
   "execution_count": 52,
   "metadata": {},
   "outputs": [],
   "source": [
    "y=np.zeros((T,n))\n",
    "y[0]=y0\n",
    "y=y.T\n",
    "for i in range(n):\n",
    "    for j in range(1,T):\n",
    "        y[i][j]=a[i]+phizero*y[i][j-1]+epsilon[i*T+j]\n",
    "\n",
    "yit=y.reshape(n*T)"
   ]
  },
  {
   "cell_type": "code",
   "execution_count": 53,
   "metadata": {},
   "outputs": [],
   "source": [
    "#Generation des first difference :\n",
    "delta_y=np.zeros((n,T-1))\n",
    "for i in range(n):\n",
    "    for j in range(T-1):\n",
    "        delta_y[i,j]=y[i,j+1]-y[i,j]"
   ]
  },
  {
   "cell_type": "markdown",
   "metadata": {},
   "source": [
    "On cheche à coder un GMM baser sur ces moments là : $\\forall t>1, \\forall s>2, E(y_{it-s}\\Delta u_{it})=0$. \n",
    "\n",
    "Leur contrepartie empirique est : $$ \\frac{1}{N}\\sum_{i=1}^N y_{it-s}(\\Delta u_{it}) = \\frac{1}{N}\\sum_{i=1}^N y_{it-s}(\\Delta y_{it} - \\phi_0 \\Delta y_{it-1}) $$\n",
    "\n",
    "Comme on instrumente directement les différences premières, on ne considère plus l'observation à t=0\n",
    "\n",
    "$Z_{it}$ contient la liste des instruments de l'individu i au temps t. \n",
    "\n",
    "Par exemple : pour t=1, pas d'instrument (car s>2) => on ajoute un 0. Pour t=2, le seul instrument disponible est $y_{i0}$...\n",
    "\n",
    "Donc sur la ligne t de Z on aura : $(0,y_{i0},(y_{i0},y_{i1}),(y_{i0},y_{i1},y_{i2}),...)$ et ce pour les n individus\n",
    "\n"
   ]
  },
  {
   "cell_type": "code",
   "execution_count": 54,
   "metadata": {},
   "outputs": [],
   "source": [
    "z=[]\n",
    "y\n",
    "#On parcours tous les individus\n",
    "for i in range(n):\n",
    "    #On ajoute une ligne avec un zéros qui symbolise t=1\n",
    "    z.append([[0]])\n",
    "    \n",
    "    #Pour tous les temps T>2, on ajoute les instruments jusqu'à yi0\n",
    "    for t in range(2,T):\n",
    "        instrument=[y[i,t-s] for s in range(2,t+1) ]\n",
    "        z[i].append(instrument)\n"
   ]
  },
  {
   "cell_type": "markdown",
   "metadata": {},
   "source": [
    "On a donc $h(\\rho,\\Delta y_{it},z_{it})$ tel que : $E(h(\\rho,\\Delta y_{it},z_{it}))=0$.\n",
    "\n",
    "En l'occurence :  $ h(\\rho,\\Delta y_{it},z_{it}) = z_{it}(\\Delta y_{it}-\\rho \\Delta y_{it-s})$.\n",
    "\n",
    "Ici la fonction h stock l'ensemble des moments générés pour l'observation $y_{i,t}$ (un par instrument)\n",
    "\n",
    "\n"
   ]
  },
  {
   "cell_type": "code",
   "execution_count": 55,
   "metadata": {},
   "outputs": [],
   "source": [
    "def h(rho,i,t):\n",
    "    instr=z[i][t]\n",
    "    return [inst*(delta_y[i,t]-rho*delta_y[i,t-1]) for inst in instr]\n"
   ]
  },
  {
   "cell_type": "markdown",
   "metadata": {},
   "source": [
    "Puis on a : \n",
    "$h(\\rho,Y_i,Z_i,X_i) = (h(\\rho,\\Delta y_{11},z_{1T}),h(\\rho,\\Delta y_{21},z_{2T})...)$"
   ]
  },
  {
   "cell_type": "markdown",
   "metadata": {},
   "source": [
    "Finalement on minimise le critère : \n",
    "    $$Q(\\theta)=[\\sum_{i=1}^Nh_i(\\theta,Y_i)]'W_T[\\sum_{i=1}^Nh(\\theta,Y_i)]$$"
   ]
  },
  {
   "cell_type": "code",
   "execution_count": 56,
   "metadata": {},
   "outputs": [],
   "source": [
    "#On agrège tous les moments d'un individu donné dans un vecteur \n",
    "def tab_h(i,rho):\n",
    "    tab_h=[]\n",
    "    for t in range(1,T-1):\n",
    "        tab_h+=h(rho,i,t)\n",
    "    return np.array(tab_h)\n",
    "\n",
    "#On définit le critère ci dessus.\n",
    "def critere(rho):\n",
    "    M=1/(n-1)*sum([tab_h(i,rho) for i in range(n-1)])\n",
    "    return M@M.T\n"
   ]
  },
  {
   "cell_type": "code",
   "execution_count": 57,
   "metadata": {},
   "outputs": [
    {
     "data": {
      "text/plain": [
       "     fun: 223.66415792227454\n",
       "    nfev: 10\n",
       "     nit: 6\n",
       " success: True\n",
       "       x: -0.20885584094959997"
      ]
     },
     "execution_count": 57,
     "metadata": {},
     "output_type": "execute_result"
    }
   ],
   "source": [
    "minimize_scalar(critere)"
   ]
  },
  {
   "cell_type": "markdown",
   "metadata": {},
   "source": [
    "Après trop de temps à me perdre dans l'article de Arellano Bover 95 (pour qqch de vraiment pas ouf), j'ai enfin compris que Arrelo Bover ajoute comme nouveaux moments à rajouter dans le GMM. J'ai trouvé cette version clair de ça dans Blundell bond 98 :\n",
    "$$ E(u_{i,t},\\Delta y_{i,t-1})=E((y_{i,t}-\\phi_0 y_{it-1})(y_{i,t-1}-y_{it-2})=0, \\text{for } t=2,3,...,T $$\n",
    "\n",
    "Genre les résidu de l'équation au temps t sont orthogonaux de leur \"condition intiale\" au temps t-1.\n",
    "\n",
    "On va coder ça. Comme il y qu'un seul momen par temps c'est plus facile, on les mets direct dans un vecteur pour chaque individu."
   ]
  },
  {
   "cell_type": "code",
   "execution_count": 58,
   "metadata": {},
   "outputs": [],
   "source": [
    "def moment_l (i,rho):\n",
    "    moment_l=[]\n",
    "    for t in range(3,T):\n",
    "        moment_l+=[(y[i,t]-rho*y[i,t-1])*(y[i,t-1]-y[i,t-2])] \n",
    "    return moment_l\n",
    "\n",
    "\n",
    "def GMM_Ar_Bond (rho) :\n",
    "    moments=[]\n",
    "    for i in range(n):\n",
    "        moments.append(np.array(moment_l(i,rho)+list(tab_h(i,rho))))\n",
    "    M=1/(n-1)*sum([moments[i] for i in range(n-1)])\n",
    "    return M@M.T\n",
    "\n",
    "\n"
   ]
  },
  {
   "cell_type": "code",
   "execution_count": 59,
   "metadata": {},
   "outputs": [
    {
     "data": {
      "text/plain": [
       "     fun: 386.0937376776315\n",
       "    nfev: 13\n",
       "     nit: 9\n",
       " success: True\n",
       "       x: 0.07749656148674389"
      ]
     },
     "execution_count": 59,
     "metadata": {},
     "output_type": "execute_result"
    }
   ],
   "source": [
    "minimize_scalar(GMM_Ar_Bond)"
   ]
  },
  {
   "cell_type": "markdown",
   "metadata": {},
   "source": [
    "Bon pour l'instant je sais pas pourquoi mais les résultats sont absolument pas ouf XD. Je pense que si on remettait tout ca en forme matricielle et qu'on fait juste la formule ca fonctionnerait mieux :("
   ]
  },
  {
   "cell_type": "markdown",
   "metadata": {},
   "source": [
    "- Approche Han et Phillips"
   ]
  },
  {
   "cell_type": "code",
   "execution_count": 60,
   "metadata": {},
   "outputs": [
    {
     "name": "stdout",
     "output_type": "stream",
     "text": [
      "Estimation directe:  0.6954486906378622\n",
      "Estimation par algo:  2.0194641356034246\n"
     ]
    }
   ],
   "source": [
    "#Implémentation directe\n",
    "numerateur=0\n",
    "denominateur=0\n",
    "for i in range(n) :\n",
    "    for t in range(T):\n",
    "        delta_1=y[i,t-1]-y[i,t-2]\n",
    "        delta=y[i,t]-y[i,t-1]\n",
    "        numerateur+=delta_1*(2*delta+delta_1)\n",
    "        denominateur+=(delta_1)**2\n",
    "\n",
    "estim=numerateur/denominateur\n",
    "print(\"Estimation directe: \",estim)\n",
    "\n",
    "#implémentation par algo de maximisation\n",
    "def moment_HP(i,rho):\n",
    "    moment_l=[]\n",
    "    for t in range(3,T):\n",
    "        delta_1=y[i,t-1]-y[i,t-2]\n",
    "        delta=y[i,t]-y[i,t-1]\n",
    "        moment_l+=[delta_1*(2*delta+delta_1)-rho*delta_1] \n",
    "    return moment_l\n",
    "\n",
    "def GMM_HP(rho):\n",
    "    moments=[]\n",
    "    for i in range(n):\n",
    "        moments.append(np.array(moment_HP(i,rho)))\n",
    "    M=1/(n-1)*sum([moments[i] for i in range(n-1)])\n",
    "    return M@M.T\n",
    "\n",
    "estim2=minimize_scalar(GMM_HP, tol=0.01)\n",
    "print(\"Estimation par algo: \",estim2[\"x\"])  \n"
   ]
  },
  {
   "cell_type": "markdown",
   "metadata": {},
   "source": [
    "MLE avec correction de biais de Han et Kuersteiner : la formule explicite est donnée directe dans l'article : je recopie."
   ]
  },
  {
   "cell_type": "code",
   "execution_count": 61,
   "metadata": {},
   "outputs": [
    {
     "name": "stdout",
     "output_type": "stream",
     "text": [
      "0.8526229224942496\n"
     ]
    }
   ],
   "source": [
    "within_ = [1/T*sum([y[i][t-1] for t in range(1,T)]) for i in range(n)]\n",
    "within = [1/T*sum([y[i][t] for t in range(1,T)]) for i in range(n)]\n",
    "\n",
    "#Denominateur (le même pour OLS et HK, noté Upsilon):\n",
    "Upsilon=0\n",
    "for i in range(n):\n",
    "    for t in range(1,T):\n",
    "        Upsilon+=(y[i,t-1]-within_[i])**2\n",
    "        \n",
    "Upsilon*=1/(n*T)\n",
    "\n",
    "#Numérateur (le même pour OLS et la première partie de HK)\n",
    "HK_num_1=0\n",
    "for i in range(n):\n",
    "    for t in range(1,T):\n",
    "        HK_num_1+=(y[i,t-1]-within_[i])*(y[i,t]-within_[i])\n",
    "HK_num_1*=1/(n*T)\n",
    "\n",
    "phi_OLS=HK_num_1/Upsilon\n",
    "\n",
    "omega=(1-phi_OLS**2)*Upsilon\n",
    "\n",
    "HK_num_2 = (1/T)*(1-phi_OLS)*omega\n",
    "\n",
    "HK_estim=(HK_num_1+HK_num_2)/Upsilon\n",
    "\n",
    "print(HK_estim)"
   ]
  },
  {
   "cell_type": "markdown",
   "metadata": {},
   "source": [
    "Mnt il faut coder l'inférence indirecte :\n",
    "\n",
    "1) On crée une fonction qui génère des données avec un phi donné\n",
    "\n",
    "2) On crée une fonction qui calcul OLS avec des données donnée\n",
    "\n",
    "3) On utilise la super fonction trop cool qui minimise des fonctions"
   ]
  },
  {
   "cell_type": "code",
   "execution_count": 89,
   "metadata": {},
   "outputs": [
    {
     "data": {
      "text/plain": [
       "array([[-1.37815475, -1.187473  , -0.99938961, -2.26176945, -0.586684  ],\n",
       "       [ 0.98934813, -0.3869332 ,  2.26244059,  2.8437997 ,  3.87017523],\n",
       "       [ 1.00268627, -0.80841778, -0.6969046 , -0.46456136,  0.07071828],\n",
       "       [ 1.89031558,  2.96238038,  3.97420205,  3.02333134,  3.10420198],\n",
       "       [ 0.18242059, -2.44030232,  0.49096488,  0.71678833,  1.22867252]])"
      ]
     },
     "execution_count": 89,
     "metadata": {},
     "output_type": "execute_result"
    }
   ],
   "source": [
    "#Exactement la même chose qu'au début\n",
    "def gener_donne(phi,n,T):\n",
    "    phizero=phi\n",
    "    a=np.array([np.random.normal(0,1) for i in range(n)])\n",
    "    y0=np.array([np.random.normal(a[i]/(1-phizero),1/np.sqrt(1-phizero**2)) for i in range(n)])\n",
    "    epsilon=[np.random.normal(0,1) for i in range(n*T)]\n",
    "    y=np.zeros((T,n))\n",
    "    y[0]=y0\n",
    "    y=y.T\n",
    "    for i in range(n):\n",
    "        for j in range(1,T):\n",
    "            y[i][j]=a[i]+phizero*y[i][j-1]+epsilon[i*T+j]\n",
    "    \n",
    "    return y\n",
    "\n"
   ]
  },
  {
   "cell_type": "code",
   "execution_count": null,
   "metadata": {},
   "outputs": [],
   "source": [
    "#Formule du papier pour l'estimateur\n",
    "def ML_papier(y):\n",
    "    mat_y_=y[:,:T-1]\n",
    "    mat_y=y[:,1:]\n",
    "    \n",
    "    y=mat_y.reshape(n*(T-1),1)\n",
    "    y_=mat_y_.reshape(n*(T-1),1)\n",
    "        \n",
    "    phi_ML_aux=np.linalg.inv((y_.T)@y_)@((y_.T)@y)\n",
    "    \n",
    "    return phi_ML_aux\n",
    "\n",
    "#Calcul de la binding function simulée pour un phi donnée\n",
    "def b_NT(phi,H):\n",
    "    b_simul=[ML_papier(gener_donne(phi,n,T)) for H in range(H)]\n",
    "    return np.mean(b_simul)"
   ]
  },
  {
   "cell_type": "code",
   "execution_count": 134,
   "metadata": {},
   "outputs": [
    {
     "ename": "ValueError",
     "evalue": "could not broadcast input array from shape (5,1,1) into shape (5)",
     "output_type": "error",
     "traceback": [
      "\u001b[1;31m---------------------------------------------------------------------------\u001b[0m",
      "\u001b[1;31mValueError\u001b[0m                                Traceback (most recent call last)",
      "\u001b[1;32m<ipython-input-134-4aabb5141ae1>\u001b[0m in \u001b[0;36m<module>\u001b[1;34m\u001b[0m\n\u001b[0;32m      7\u001b[0m     \u001b[1;32mreturn\u001b[0m \u001b[0mminimize_scalar\u001b[0m\u001b[1;33m(\u001b[0m\u001b[0mecart\u001b[0m\u001b[1;33m,\u001b[0m \u001b[0mmethod\u001b[0m\u001b[1;33m=\u001b[0m\u001b[1;34m\"bounded\"\u001b[0m\u001b[1;33m,\u001b[0m \u001b[0mbounds\u001b[0m\u001b[1;33m=\u001b[0m\u001b[1;33m(\u001b[0m\u001b[1;36m0.1\u001b[0m\u001b[1;33m,\u001b[0m\u001b[1;36m0.9\u001b[0m\u001b[1;33m)\u001b[0m\u001b[1;33m)\u001b[0m\u001b[1;33m\u001b[0m\u001b[1;33m\u001b[0m\u001b[0m\n\u001b[0;32m      8\u001b[0m \u001b[1;33m\u001b[0m\u001b[0m\n\u001b[1;32m----> 9\u001b[1;33m \u001b[0mestim_indirect\u001b[0m\u001b[1;33m(\u001b[0m\u001b[0mH\u001b[0m\u001b[1;33m)\u001b[0m\u001b[1;33m\u001b[0m\u001b[1;33m\u001b[0m\u001b[0m\n\u001b[0m",
      "\u001b[1;32m<ipython-input-134-4aabb5141ae1>\u001b[0m in \u001b[0;36mestim_indirect\u001b[1;34m(H)\u001b[0m\n\u001b[0;32m      5\u001b[0m     \u001b[1;32mdef\u001b[0m \u001b[0mecart\u001b[0m\u001b[1;33m(\u001b[0m\u001b[0mphi\u001b[0m\u001b[1;33m)\u001b[0m\u001b[1;33m:\u001b[0m\u001b[1;33m\u001b[0m\u001b[1;33m\u001b[0m\u001b[0m\n\u001b[0;32m      6\u001b[0m         \u001b[1;32mreturn\u001b[0m \u001b[0mabs\u001b[0m\u001b[1;33m(\u001b[0m\u001b[0mML_papier\u001b[0m\u001b[1;33m(\u001b[0m\u001b[0my\u001b[0m\u001b[1;33m)\u001b[0m\u001b[1;33m-\u001b[0m\u001b[0mb_NT\u001b[0m\u001b[1;33m(\u001b[0m\u001b[0mphi\u001b[0m\u001b[1;33m,\u001b[0m\u001b[0mH\u001b[0m\u001b[1;33m)\u001b[0m\u001b[1;33m)\u001b[0m\u001b[1;33m\u001b[0m\u001b[1;33m\u001b[0m\u001b[0m\n\u001b[1;32m----> 7\u001b[1;33m     \u001b[1;32mreturn\u001b[0m \u001b[0mminimize_scalar\u001b[0m\u001b[1;33m(\u001b[0m\u001b[0mecart\u001b[0m\u001b[1;33m,\u001b[0m \u001b[0mmethod\u001b[0m\u001b[1;33m=\u001b[0m\u001b[1;34m\"bounded\"\u001b[0m\u001b[1;33m,\u001b[0m \u001b[0mbounds\u001b[0m\u001b[1;33m=\u001b[0m\u001b[1;33m(\u001b[0m\u001b[1;36m0.1\u001b[0m\u001b[1;33m,\u001b[0m\u001b[1;36m0.9\u001b[0m\u001b[1;33m)\u001b[0m\u001b[1;33m)\u001b[0m\u001b[1;33m\u001b[0m\u001b[1;33m\u001b[0m\u001b[0m\n\u001b[0m\u001b[0;32m      8\u001b[0m \u001b[1;33m\u001b[0m\u001b[0m\n\u001b[0;32m      9\u001b[0m \u001b[0mestim_indirect\u001b[0m\u001b[1;33m(\u001b[0m\u001b[0mH\u001b[0m\u001b[1;33m)\u001b[0m\u001b[1;33m\u001b[0m\u001b[1;33m\u001b[0m\u001b[0m\n",
      "\u001b[1;32m~\\Anaconda3\\lib\\site-packages\\scipy\\optimize\\_minimize.py\u001b[0m in \u001b[0;36mminimize_scalar\u001b[1;34m(fun, bracket, bounds, args, method, tol, options)\u001b[0m\n\u001b[0;32m    796\u001b[0m         \u001b[1;32mif\u001b[0m \u001b[0misinstance\u001b[0m\u001b[1;33m(\u001b[0m\u001b[0mdisp\u001b[0m\u001b[1;33m,\u001b[0m \u001b[0mbool\u001b[0m\u001b[1;33m)\u001b[0m\u001b[1;33m:\u001b[0m\u001b[1;33m\u001b[0m\u001b[1;33m\u001b[0m\u001b[0m\n\u001b[0;32m    797\u001b[0m             \u001b[0moptions\u001b[0m\u001b[1;33m[\u001b[0m\u001b[1;34m'disp'\u001b[0m\u001b[1;33m]\u001b[0m \u001b[1;33m=\u001b[0m \u001b[1;36m2\u001b[0m \u001b[1;33m*\u001b[0m \u001b[0mint\u001b[0m\u001b[1;33m(\u001b[0m\u001b[0mdisp\u001b[0m\u001b[1;33m)\u001b[0m\u001b[1;33m\u001b[0m\u001b[1;33m\u001b[0m\u001b[0m\n\u001b[1;32m--> 798\u001b[1;33m         \u001b[1;32mreturn\u001b[0m \u001b[0m_minimize_scalar_bounded\u001b[0m\u001b[1;33m(\u001b[0m\u001b[0mfun\u001b[0m\u001b[1;33m,\u001b[0m \u001b[0mbounds\u001b[0m\u001b[1;33m,\u001b[0m \u001b[0margs\u001b[0m\u001b[1;33m,\u001b[0m \u001b[1;33m**\u001b[0m\u001b[0moptions\u001b[0m\u001b[1;33m)\u001b[0m\u001b[1;33m\u001b[0m\u001b[1;33m\u001b[0m\u001b[0m\n\u001b[0m\u001b[0;32m    799\u001b[0m     \u001b[1;32melif\u001b[0m \u001b[0mmeth\u001b[0m \u001b[1;33m==\u001b[0m \u001b[1;34m'golden'\u001b[0m\u001b[1;33m:\u001b[0m\u001b[1;33m\u001b[0m\u001b[1;33m\u001b[0m\u001b[0m\n\u001b[0;32m    800\u001b[0m         \u001b[1;32mreturn\u001b[0m \u001b[0m_minimize_scalar_golden\u001b[0m\u001b[1;33m(\u001b[0m\u001b[0mfun\u001b[0m\u001b[1;33m,\u001b[0m \u001b[0mbracket\u001b[0m\u001b[1;33m,\u001b[0m \u001b[0margs\u001b[0m\u001b[1;33m,\u001b[0m \u001b[1;33m**\u001b[0m\u001b[0moptions\u001b[0m\u001b[1;33m)\u001b[0m\u001b[1;33m\u001b[0m\u001b[1;33m\u001b[0m\u001b[0m\n",
      "\u001b[1;32m~\\Anaconda3\\lib\\site-packages\\scipy\\optimize\\optimize.py\u001b[0m in \u001b[0;36m_minimize_scalar_bounded\u001b[1;34m(func, bounds, args, xatol, maxiter, disp, **unknown_options)\u001b[0m\n\u001b[0;32m   1976\u001b[0m         \u001b[0msi\u001b[0m \u001b[1;33m=\u001b[0m \u001b[0mnp\u001b[0m\u001b[1;33m.\u001b[0m\u001b[0msign\u001b[0m\u001b[1;33m(\u001b[0m\u001b[0mrat\u001b[0m\u001b[1;33m)\u001b[0m \u001b[1;33m+\u001b[0m \u001b[1;33m(\u001b[0m\u001b[0mrat\u001b[0m \u001b[1;33m==\u001b[0m \u001b[1;36m0\u001b[0m\u001b[1;33m)\u001b[0m\u001b[1;33m\u001b[0m\u001b[1;33m\u001b[0m\u001b[0m\n\u001b[0;32m   1977\u001b[0m         \u001b[0mx\u001b[0m \u001b[1;33m=\u001b[0m \u001b[0mxf\u001b[0m \u001b[1;33m+\u001b[0m \u001b[0msi\u001b[0m \u001b[1;33m*\u001b[0m \u001b[0mnp\u001b[0m\u001b[1;33m.\u001b[0m\u001b[0mmax\u001b[0m\u001b[1;33m(\u001b[0m\u001b[1;33m[\u001b[0m\u001b[0mnp\u001b[0m\u001b[1;33m.\u001b[0m\u001b[0mabs\u001b[0m\u001b[1;33m(\u001b[0m\u001b[0mrat\u001b[0m\u001b[1;33m)\u001b[0m\u001b[1;33m,\u001b[0m \u001b[0mtol1\u001b[0m\u001b[1;33m]\u001b[0m\u001b[1;33m)\u001b[0m\u001b[1;33m\u001b[0m\u001b[1;33m\u001b[0m\u001b[0m\n\u001b[1;32m-> 1978\u001b[1;33m         \u001b[0mfu\u001b[0m \u001b[1;33m=\u001b[0m \u001b[0mfunc\u001b[0m\u001b[1;33m(\u001b[0m\u001b[0mx\u001b[0m\u001b[1;33m,\u001b[0m \u001b[1;33m*\u001b[0m\u001b[0margs\u001b[0m\u001b[1;33m)\u001b[0m\u001b[1;33m\u001b[0m\u001b[1;33m\u001b[0m\u001b[0m\n\u001b[0m\u001b[0;32m   1979\u001b[0m         \u001b[0mnum\u001b[0m \u001b[1;33m+=\u001b[0m \u001b[1;36m1\u001b[0m\u001b[1;33m\u001b[0m\u001b[1;33m\u001b[0m\u001b[0m\n\u001b[0;32m   1980\u001b[0m         \u001b[0mfmin_data\u001b[0m \u001b[1;33m=\u001b[0m \u001b[1;33m(\u001b[0m\u001b[0mnum\u001b[0m\u001b[1;33m,\u001b[0m \u001b[0mx\u001b[0m\u001b[1;33m,\u001b[0m \u001b[0mfu\u001b[0m\u001b[1;33m)\u001b[0m\u001b[1;33m\u001b[0m\u001b[1;33m\u001b[0m\u001b[0m\n",
      "\u001b[1;32m<ipython-input-134-4aabb5141ae1>\u001b[0m in \u001b[0;36mecart\u001b[1;34m(phi)\u001b[0m\n\u001b[0;32m      4\u001b[0m \u001b[1;32mdef\u001b[0m \u001b[0mestim_indirect\u001b[0m\u001b[1;33m(\u001b[0m\u001b[0mH\u001b[0m\u001b[1;33m)\u001b[0m\u001b[1;33m:\u001b[0m\u001b[1;33m\u001b[0m\u001b[1;33m\u001b[0m\u001b[0m\n\u001b[0;32m      5\u001b[0m     \u001b[1;32mdef\u001b[0m \u001b[0mecart\u001b[0m\u001b[1;33m(\u001b[0m\u001b[0mphi\u001b[0m\u001b[1;33m)\u001b[0m\u001b[1;33m:\u001b[0m\u001b[1;33m\u001b[0m\u001b[1;33m\u001b[0m\u001b[0m\n\u001b[1;32m----> 6\u001b[1;33m         \u001b[1;32mreturn\u001b[0m \u001b[0mabs\u001b[0m\u001b[1;33m(\u001b[0m\u001b[0mML_papier\u001b[0m\u001b[1;33m(\u001b[0m\u001b[0my\u001b[0m\u001b[1;33m)\u001b[0m\u001b[1;33m-\u001b[0m\u001b[0mb_NT\u001b[0m\u001b[1;33m(\u001b[0m\u001b[0mphi\u001b[0m\u001b[1;33m,\u001b[0m\u001b[0mH\u001b[0m\u001b[1;33m)\u001b[0m\u001b[1;33m)\u001b[0m\u001b[1;33m\u001b[0m\u001b[1;33m\u001b[0m\u001b[0m\n\u001b[0m\u001b[0;32m      7\u001b[0m     \u001b[1;32mreturn\u001b[0m \u001b[0mminimize_scalar\u001b[0m\u001b[1;33m(\u001b[0m\u001b[0mecart\u001b[0m\u001b[1;33m,\u001b[0m \u001b[0mmethod\u001b[0m\u001b[1;33m=\u001b[0m\u001b[1;34m\"bounded\"\u001b[0m\u001b[1;33m,\u001b[0m \u001b[0mbounds\u001b[0m\u001b[1;33m=\u001b[0m\u001b[1;33m(\u001b[0m\u001b[1;36m0.1\u001b[0m\u001b[1;33m,\u001b[0m\u001b[1;36m0.9\u001b[0m\u001b[1;33m)\u001b[0m\u001b[1;33m)\u001b[0m\u001b[1;33m\u001b[0m\u001b[1;33m\u001b[0m\u001b[0m\n\u001b[0;32m      8\u001b[0m \u001b[1;33m\u001b[0m\u001b[0m\n",
      "\u001b[1;32m<ipython-input-133-2f35022a76d1>\u001b[0m in \u001b[0;36mb_NT\u001b[1;34m(phi, H)\u001b[0m\n\u001b[0;32m     13\u001b[0m \u001b[1;31m#Calcul de la binding function simulée pour un phi donnée\u001b[0m\u001b[1;33m\u001b[0m\u001b[1;33m\u001b[0m\u001b[1;33m\u001b[0m\u001b[0m\n\u001b[0;32m     14\u001b[0m \u001b[1;32mdef\u001b[0m \u001b[0mb_NT\u001b[0m\u001b[1;33m(\u001b[0m\u001b[0mphi\u001b[0m\u001b[1;33m,\u001b[0m\u001b[0mH\u001b[0m\u001b[1;33m)\u001b[0m\u001b[1;33m:\u001b[0m\u001b[1;33m\u001b[0m\u001b[1;33m\u001b[0m\u001b[0m\n\u001b[1;32m---> 15\u001b[1;33m     \u001b[0mb_simul\u001b[0m\u001b[1;33m=\u001b[0m\u001b[1;33m[\u001b[0m\u001b[0mML_papier\u001b[0m\u001b[1;33m(\u001b[0m\u001b[0mgener_donne\u001b[0m\u001b[1;33m(\u001b[0m\u001b[0mphi\u001b[0m\u001b[1;33m,\u001b[0m\u001b[0mn\u001b[0m\u001b[1;33m,\u001b[0m\u001b[0mT\u001b[0m\u001b[1;33m)\u001b[0m\u001b[1;33m)\u001b[0m \u001b[1;32mfor\u001b[0m \u001b[0mH\u001b[0m \u001b[1;32min\u001b[0m \u001b[0mrange\u001b[0m\u001b[1;33m(\u001b[0m\u001b[0mH\u001b[0m\u001b[1;33m)\u001b[0m\u001b[1;33m]\u001b[0m\u001b[1;33m\u001b[0m\u001b[1;33m\u001b[0m\u001b[0m\n\u001b[0m\u001b[0;32m     16\u001b[0m     \u001b[1;32mreturn\u001b[0m \u001b[0mnp\u001b[0m\u001b[1;33m.\u001b[0m\u001b[0mmean\u001b[0m\u001b[1;33m(\u001b[0m\u001b[0mb_simul\u001b[0m\u001b[1;33m)\u001b[0m\u001b[1;33m\u001b[0m\u001b[1;33m\u001b[0m\u001b[0m\n\u001b[0;32m     17\u001b[0m \u001b[1;33m\u001b[0m\u001b[0m\n",
      "\u001b[1;32m<ipython-input-133-2f35022a76d1>\u001b[0m in \u001b[0;36m<listcomp>\u001b[1;34m(.0)\u001b[0m\n\u001b[0;32m     13\u001b[0m \u001b[1;31m#Calcul de la binding function simulée pour un phi donnée\u001b[0m\u001b[1;33m\u001b[0m\u001b[1;33m\u001b[0m\u001b[1;33m\u001b[0m\u001b[0m\n\u001b[0;32m     14\u001b[0m \u001b[1;32mdef\u001b[0m \u001b[0mb_NT\u001b[0m\u001b[1;33m(\u001b[0m\u001b[0mphi\u001b[0m\u001b[1;33m,\u001b[0m\u001b[0mH\u001b[0m\u001b[1;33m)\u001b[0m\u001b[1;33m:\u001b[0m\u001b[1;33m\u001b[0m\u001b[1;33m\u001b[0m\u001b[0m\n\u001b[1;32m---> 15\u001b[1;33m     \u001b[0mb_simul\u001b[0m\u001b[1;33m=\u001b[0m\u001b[1;33m[\u001b[0m\u001b[0mML_papier\u001b[0m\u001b[1;33m(\u001b[0m\u001b[0mgener_donne\u001b[0m\u001b[1;33m(\u001b[0m\u001b[0mphi\u001b[0m\u001b[1;33m,\u001b[0m\u001b[0mn\u001b[0m\u001b[1;33m,\u001b[0m\u001b[0mT\u001b[0m\u001b[1;33m)\u001b[0m\u001b[1;33m)\u001b[0m \u001b[1;32mfor\u001b[0m \u001b[0mH\u001b[0m \u001b[1;32min\u001b[0m \u001b[0mrange\u001b[0m\u001b[1;33m(\u001b[0m\u001b[0mH\u001b[0m\u001b[1;33m)\u001b[0m\u001b[1;33m]\u001b[0m\u001b[1;33m\u001b[0m\u001b[1;33m\u001b[0m\u001b[0m\n\u001b[0m\u001b[0;32m     16\u001b[0m     \u001b[1;32mreturn\u001b[0m \u001b[0mnp\u001b[0m\u001b[1;33m.\u001b[0m\u001b[0mmean\u001b[0m\u001b[1;33m(\u001b[0m\u001b[0mb_simul\u001b[0m\u001b[1;33m)\u001b[0m\u001b[1;33m\u001b[0m\u001b[1;33m\u001b[0m\u001b[0m\n\u001b[0;32m     17\u001b[0m \u001b[1;33m\u001b[0m\u001b[0m\n",
      "\u001b[1;32m<ipython-input-89-cf74ebc073c6>\u001b[0m in \u001b[0;36mgener_donne\u001b[1;34m(phi, n, T)\u001b[0m\n\u001b[0;32m      6\u001b[0m     \u001b[0mepsilon\u001b[0m\u001b[1;33m=\u001b[0m\u001b[1;33m[\u001b[0m\u001b[0mnp\u001b[0m\u001b[1;33m.\u001b[0m\u001b[0mrandom\u001b[0m\u001b[1;33m.\u001b[0m\u001b[0mnormal\u001b[0m\u001b[1;33m(\u001b[0m\u001b[1;36m0\u001b[0m\u001b[1;33m,\u001b[0m\u001b[1;36m1\u001b[0m\u001b[1;33m)\u001b[0m \u001b[1;32mfor\u001b[0m \u001b[0mi\u001b[0m \u001b[1;32min\u001b[0m \u001b[0mrange\u001b[0m\u001b[1;33m(\u001b[0m\u001b[0mn\u001b[0m\u001b[1;33m*\u001b[0m\u001b[0mT\u001b[0m\u001b[1;33m)\u001b[0m\u001b[1;33m]\u001b[0m\u001b[1;33m\u001b[0m\u001b[1;33m\u001b[0m\u001b[0m\n\u001b[0;32m      7\u001b[0m     \u001b[0my\u001b[0m\u001b[1;33m=\u001b[0m\u001b[0mnp\u001b[0m\u001b[1;33m.\u001b[0m\u001b[0mzeros\u001b[0m\u001b[1;33m(\u001b[0m\u001b[1;33m(\u001b[0m\u001b[0mT\u001b[0m\u001b[1;33m,\u001b[0m\u001b[0mn\u001b[0m\u001b[1;33m)\u001b[0m\u001b[1;33m)\u001b[0m\u001b[1;33m\u001b[0m\u001b[1;33m\u001b[0m\u001b[0m\n\u001b[1;32m----> 8\u001b[1;33m     \u001b[0my\u001b[0m\u001b[1;33m[\u001b[0m\u001b[1;36m0\u001b[0m\u001b[1;33m]\u001b[0m\u001b[1;33m=\u001b[0m\u001b[0my0\u001b[0m\u001b[1;33m\u001b[0m\u001b[1;33m\u001b[0m\u001b[0m\n\u001b[0m\u001b[0;32m      9\u001b[0m     \u001b[0my\u001b[0m\u001b[1;33m=\u001b[0m\u001b[0my\u001b[0m\u001b[1;33m.\u001b[0m\u001b[0mT\u001b[0m\u001b[1;33m\u001b[0m\u001b[1;33m\u001b[0m\u001b[0m\n\u001b[0;32m     10\u001b[0m     \u001b[1;32mfor\u001b[0m \u001b[0mi\u001b[0m \u001b[1;32min\u001b[0m \u001b[0mrange\u001b[0m\u001b[1;33m(\u001b[0m\u001b[0mn\u001b[0m\u001b[1;33m)\u001b[0m\u001b[1;33m:\u001b[0m\u001b[1;33m\u001b[0m\u001b[1;33m\u001b[0m\u001b[0m\n",
      "\u001b[1;31mValueError\u001b[0m: could not broadcast input array from shape (5,1,1) into shape (5)"
     ]
    }
   ],
   "source": [
    "\n",
    "#Minimisation de l'écart entre la binding fuction simulée et la \"vraie valeur\"\n",
    "# de la binding function\n",
    "\n",
    "def estim_indirect(H):\n",
    "    def ecart(phi):\n",
    "        return abs(ML_papier(y)-b_NT(phi,H))\n",
    "    return minimize_scalar(ecart, method=\"bounded\", bounds=(0.1,0.9))\n",
    "\n",
    "estim_indirect(H)"
   ]
  },
  {
   "cell_type": "code",
   "execution_count": null,
   "metadata": {},
   "outputs": [],
   "source": []
  },
  {
   "cell_type": "code",
   "execution_count": null,
   "metadata": {},
   "outputs": [],
   "source": []
  },
  {
   "cell_type": "code",
   "execution_count": null,
   "metadata": {},
   "outputs": [],
   "source": []
  }
 ],
 "metadata": {
  "kernelspec": {
   "display_name": "Python 3",
   "language": "python",
   "name": "python3"
  },
  "language_info": {
   "codemirror_mode": {
    "name": "ipython",
    "version": 3
   },
   "file_extension": ".py",
   "mimetype": "text/x-python",
   "name": "python",
   "nbconvert_exporter": "python",
   "pygments_lexer": "ipython3",
   "version": "3.8.5"
  }
 },
 "nbformat": 4,
 "nbformat_minor": 4
}
