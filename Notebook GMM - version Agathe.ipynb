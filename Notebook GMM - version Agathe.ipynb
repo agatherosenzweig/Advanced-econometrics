{
 "cells": [
  {
   "cell_type": "code",
   "execution_count": 1,
   "metadata": {},
   "outputs": [],
   "source": [
    "import random\n",
    "import numpy as np\n",
    "from sklearn.linear_model import LinearRegression\n",
    "from scipy.optimize import minimize_scalar\n",
    "import tqdm\n",
    "import matplotlib.pyplot as plt\n",
    "from scipy.stats import norm"
   ]
  },
  {
   "cell_type": "markdown",
   "metadata": {},
   "source": [
    "## I - Comparison of the existing estimators"
   ]
  },
  {
   "cell_type": "code",
   "execution_count": 10,
   "metadata": {},
   "outputs": [],
   "source": [
    "#Moments conditions\n",
    "\n",
    "def moments(phi): \n",
    "    moments = []\n",
    "    for t in range(3, T+1):\n",
    "        for s in range(2, t):\n",
    "            moments.append(sum([y[t-s][i]*(delta_y[t-1][i] + phi*y[t-3][i]) for i in range(n)])/n)\n",
    "    return(np.dot(moments, moments)) \n",
    "\n",
    "def moments_AB95(phi): \n",
    "    moments = []\n",
    "    for t in range(2, T+1):\n",
    "        moments.append(sum([(y[t][i] - phi*y[t-1][i])*(y[t-1][i] - y[t-2][i]) for i in range(n)])/n)\n",
    "    return(np.dot(moments, moments))\n",
    "\n",
    "def moments_HP(phi):\n",
    "    moments = []\n",
    "    for t in range(2, T):\n",
    "        moments.append(sum([delta_y[t-1][i]*(2*delta_y[t][i] + delta_y[t-1][i]) - phi*delta_y[t-1][i] for i in range(n)])/n)\n",
    "    return(np.dot(moments, moments)) \n",
    "\n",
    "#Formula 7 p70 in the paper\n",
    "def HP_estim_direct(y,n,T):\n",
    "    numerateur=0\n",
    "    denominateur=0\n",
    "    for i in range(n) :\n",
    "        for t in range(1,T+1):\n",
    "            numerateur+=delta_y[t-1][i]*(2*delta_y[t][i] + delta_y[t-1][i])\n",
    "            denominateur+=(delta_y[t-1][i])**2\n",
    "\n",
    "    estim=numerateur/denominateur\n",
    "    return estim\n",
    "\n",
    "#Fonction codée par Gaetan\n",
    "def HK_estim_direct(y,n,T):\n",
    "    \n",
    "    within_ = [1/T*sum([y[t-1][i] for t in range(1,T)]) for i in range(n)]\n",
    "    within = [1/T*sum([y[t][i] for t in range(1,T)]) for i in range(n)]\n",
    "\n",
    "    Upsilon=0\n",
    "    for i in range(n):\n",
    "        for t in range(1,T):\n",
    "            Upsilon+=(y[t-1][i]-within_[i])**2\n",
    "\n",
    "    Upsilon*=1/(n*T)\n",
    "\n",
    "    HK_num_1=0\n",
    "    for i in range(n):\n",
    "        for t in range(1,T):\n",
    "            HK_num_1+=(y[t-1][i]-within_[i])*(y[t][i]-within_[i])\n",
    "            \n",
    "    HK_num_1*=1/(n*T)\n",
    "\n",
    "    phi_OLS=HK_num_1/Upsilon\n",
    "\n",
    "    omega=(1-phi_OLS**2)*Upsilon\n",
    "\n",
    "    HK_num_2 = (1/T)*(1-phi_OLS)*omega\n",
    "\n",
    "    HK_estim=(HK_num_1+HK_num_2)/Upsilon\n",
    "\n",
    "    return(HK_estim)\n"
   ]
  },
  {
   "cell_type": "code",
   "execution_count": 11,
   "metadata": {},
   "outputs": [],
   "source": [
    "#Simulation of the data\n",
    "random.seed(2040)\n",
    "n= 100\n",
    "T= 5\n",
    "phizero =  0.4\n",
    "\n",
    "results_AH81 = list()\n",
    "results_AB95 = list()\n",
    "results_HP = list()\n",
    "HP_direct = list()\n",
    "HK_direct = list()\n",
    "\n",
    "for l in range(500):\n",
    "    #definition of y0 for the n individuals \n",
    "    a = np.random.normal(0,1, size = n)\n",
    "    y0 = np.vectorize(lambda x: np.random.normal(x/(1-phizero),1/(1-phizero**2)**0.5))(a)\n",
    "    epsilon = np.random.normal(0, 1, size = n*T)\n",
    "\n",
    "\n",
    "    #matrix where each row is the time period, and each column is the ith individual\n",
    "    y=np.zeros((T+1,n))\n",
    "\n",
    "    #the first row of the matrix is y0\n",
    "    y[0] = y0\n",
    "\n",
    "    #We implement the first line as zeros for simplicity of index\n",
    "    delta_y = np.zeros((T+1,n))\n",
    "\n",
    "    #recursive definition of y, delta_y and delta_epsilon\n",
    "    for j in range(1,T+1):\n",
    "        y[j] = a + y[j-1]*phizero + epsilon[j]\n",
    "        delta_y[j] = y[j] - y[j-1]\n",
    "        \n",
    "    \n",
    "    #Different criteria we want to minimize\n",
    "    results_AH81.append(minimize_scalar(moments, bounds = (-0.99,0.99), method = \"bounded\").x)\n",
    "    results_AB95.append(minimize_scalar(moments_AB95, bounds = (-0.99,0.99), method = \"bounded\").x)\n",
    "    results_HP.append(minimize_scalar(moments_HP, bounds = (-0.99,0.99), method = \"bounded\").x)\n",
    "    HP_direct.append(HP_estim_direct(y,n,T))\n",
    "    HK_direct.append(HK_estim_direct(y,n,T))"
   ]
  },
  {
   "cell_type": "code",
   "execution_count": 12,
   "metadata": {},
   "outputs": [],
   "source": [
    "def plot_results(results, title):\n",
    "    plt.hist(results, 100)\n",
    "    plt.axvline(x = phizero, color='r', linestyle=':', label = \"target value\")\n",
    "    plt.axvline(x = np.mean(results), color = \"b\", label = \"mean\")\n",
    "    plt.legend(loc='upper right')\n",
    "    plt.title(title)\n",
    "    plt.show()"
   ]
  },
  {
   "cell_type": "markdown",
   "metadata": {},
   "source": [
    "For the Andersen and Hsiao estimator, we have to rewrite the condition (5), so we can see the parameter $\\phi$ \n",
    "\n",
    "$$\\sum_{i = 1}^{n} \\Delta y_{i,t-1} \\times y_{i, t-s} =  \\sum_{i = 1}^{n}( \\phi \\Delta y_{i,t-2} + \\Delta \\varepsilon_{i,t-1})\\times y_{i, t-s}) $$\n",
    "\n",
    "Yet, $$\\Delta \\varepsilon_{i,t-1} = \\varepsilon_{i,t -1} - \\varepsilon_{i,t-2} = y_{i,t-1}  - \\phi y_{i, t-2} - y_{i, t-2} + \\phi y_{i, t-3} = y_{i,t-1}  - (1 + \\phi) ( y_{i, t-2}) + \\phi y_{i, t-3}$$\n",
    "\n",
    "Thus the moment condition is finally: \n",
    "$$\\sum_{i = 1}^{n} \\Delta y_{i,t-1} \\times y_{i, t-s}) =  \\sum_{i = 1}^{n}( y_{i,t-1} - y_{i, t-2} +  \\phi y_{i, t-3})\\times y_{i, t-s}) = \\sum_{i = 1}^{n}( \\Delta y_{i,t-1} +  \\phi y_{i, t-3})\\times y_{i, t-s})$$"
   ]
  },
  {
   "cell_type": "code",
   "execution_count": 13,
   "metadata": {},
   "outputs": [
    {
     "data": {
      "image/png": "[encoded data removed]",
      "text/plain": [
       "<Figure size 432x288 with 1 Axes>"
      ]
     },
     "metadata": {
      "needs_background": "light"
     },
     "output_type": "display_data"
    }
   ],
   "source": [
    "plot_results(results_AH81, \"Andersen and Hsiao 1982\")"
   ]
  },
  {
   "cell_type": "markdown",
   "metadata": {},
   "source": [
    "Condition from Arellano Bover 1995: \n",
    "$$ E(u_{i,t},\\Delta y_{i,t-1})=E((y_{i,t}-\\phi_0 y_{it-1})(y_{i,t-1}-y_{it-2})=0, \\text{for } t=2,3,...,T $$\n"
   ]
  },
  {
   "cell_type": "code",
   "execution_count": 14,
   "metadata": {},
   "outputs": [
    {
     "data": {
      "image/png": "[encoded data removed]",
      "text/plain": [
       "<Figure size 432x288 with 1 Axes>"
      ]
     },
     "metadata": {
      "needs_background": "light"
     },
     "output_type": "display_data"
    }
   ],
   "source": [
    "plot_results(results_AB95, \"Arellano and Bover 1995\")"
   ]
  },
  {
   "cell_type": "code",
   "execution_count": 23,
   "metadata": {},
   "outputs": [
    {
     "data": {
      "image/png": "[encoded data removed]",
      "text/plain": [
       "<Figure size 432x288 with 1 Axes>"
      ]
     },
     "metadata": {
      "needs_background": "light"
     },
     "output_type": "display_data"
    },
    {
     "data": {
      "image/png": "[encoded data removed]",
      "text/plain": [
       "<Figure size 432x288 with 1 Axes>"
      ]
     },
     "metadata": {
      "needs_background": "light"
     },
     "output_type": "display_data"
    }
   ],
   "source": [
    "plot_results(results_HP, \"Han and Phillips with minimization\")\n",
    "\n",
    "plt.hist(HP_direct, density = True, bins= 100, alpha=0.6, color='b')\n",
    "  \n",
    "# Plot the PDF.\n",
    "xmin, xmax = plt.xlim()\n",
    "x = np.linspace(xmin, xmax, 100)\n",
    "mu = phizero\n",
    "std = (2*(1 + phizero)/n*T)**0.5\n",
    "p = norm.pdf(x, mu, std)\n",
    "\n",
    "plt.plot(x, p, 'k', linewidth=2, label = \"Asymptotical limit\")\n",
    "plt.axvline(phizero, label = \"target value\", color = \"r\", linestyle=':')\n",
    "plt.axvline(np.mean(HP_direct), color = \"blue\", label = \"mean\")\n",
    "plt.legend()\n",
    "plt.title(\"Exact specification for the Han and Phillips estimator\")\n",
    "plt.show()"
   ]
  },
  {
   "cell_type": "markdown",
   "metadata": {},
   "source": [
    "Han and Phillips (forthcoming) proves the fact that the exact simulator is gaussian, for N and T large.  "
   ]
  },
  {
   "cell_type": "code",
   "execution_count": 24,
   "metadata": {},
   "outputs": [
    {
     "data": {
      "image/png": "[encoded data removed]",
      "text/plain": [
       "<Figure size 432x288 with 1 Axes>"
      ]
     },
     "metadata": {
      "needs_background": "light"
     },
     "output_type": "display_data"
    }
   ],
   "source": [
    "plt.hist(HK_direct, bins= 100, alpha=0.6, density = True, color='b')\n",
    "  \n",
    "# Plot the PDF.\n",
    "xmin, xmax = plt.xlim()\n",
    "x = np.linspace(xmin, xmax, 100)\n",
    "mu = phizero\n",
    "std = (1 - phizero**2)**0.5/(n*T)**0.5\n",
    "p = norm.pdf(x, mu, std)\n",
    "\n",
    "plt.plot(x, p, 'k', linewidth=2, label = \"Asymptotical limit\")\n",
    "plt.axvline(phizero, label = \"target value\", color = \"r\", linestyle=':')\n",
    "plt.axvline(np.mean(HP_direct), color = \"blue\", label = \"mean\")\n",
    "plt.legend()\n",
    "plt.title(\"Exact specification for the Hahn and Kuersteiner estimator\")\n",
    "plt.show()"
   ]
  },
  {
   "cell_type": "markdown",
   "metadata": {},
   "source": [
    "# II- Indirect inference"
   ]
  },
  {
   "cell_type": "code",
   "execution_count": 150,
   "metadata": {},
   "outputs": [],
   "source": [
    "def data_generation(n, T):\n",
    "    a = np.random.normal(0,1, size = n)\n",
    "    y0 = np.vectorize(lambda x: np.random.normal(x/(1-phizero),1/(1-phizero**2)**0.5))(a)\n",
    "    epsilon = np.random.normal(0, 1, size = n*T)\n",
    "\n",
    "\n",
    "    #matrix where each row is the time period, and each column is the ith individual\n",
    "    y=np.zeros((T+1,n))\n",
    "\n",
    "    #the first row of the matrix is y0\n",
    "    y[0] = y0\n",
    "\n",
    "    #We implement the first line as zeros for simplicity of index\n",
    "    delta_y = np.zeros((T+1,n))\n",
    "\n",
    "    #recursive definition of y, delta_y and delta_epsilon\n",
    "    for j in range(1,T+1):\n",
    "        y[j] = a + y[j-1]*phizero + epsilon[j]\n",
    "    return(y)"
   ]
  },
  {
   "cell_type": "markdown",
   "metadata": {},
   "source": [
    "$$ \\theta(\\phi_{0}) = \\frac{cov(y_{t}, y_{t-1})}{V(y_{t-1})} = \\frac{\\phi_0}{(1 - \\phi_{0}^2)^{-1}}$$\n",
    "np.roots(coeff)"
   ]
  },
  {
   "cell_type": "code",
   "execution_count": 163,
   "metadata": {},
   "outputs": [
    {
     "data": {
      "text/plain": [
       "array([ 5.36235116,  1.11903155, -0.92582715])"
      ]
     },
     "execution_count": 163,
     "metadata": {},
     "output_type": "execute_result"
    }
   ],
   "source": [
    "theta = 0.18\n",
    "np.roots([- theta, 1, 0, -1])"
   ]
  },
  {
   "cell_type": "code",
   "execution_count": 160,
   "metadata": {},
   "outputs": [
    {
     "data": {
      "text/plain": [
       "0.18807245137199066"
      ]
     },
     "execution_count": 160,
     "metadata": {},
     "output_type": "execute_result"
    }
   ],
   "source": [
    "H = 10\n",
    "\n",
    "def objective_function(y,i, T,theta):\n",
    "    return(sum([y[t][i] - theta*y[t-1][i] for t in range(1,T+1)])/T)\n",
    "\n",
    "def agg_obj(y,T,theta):\n",
    "    return(np.mean([objective_function(data_generation(n,T),i,T,theta) for i in range(n)]))\n",
    "\n",
    "\n",
    "def to_minimize(theta):\n",
    "    m = np.mean([agg_obj(y,T,theta) for h in range(H)])\n",
    "    return(np.dot(m, m)) \n",
    "\n",
    "minimize_scalar(to_minimize, bounds = (-0.99,0.99), method = \"bounded\").x"
   ]
  },
  {
   "cell_type": "code",
   "execution_count": 159,
   "metadata": {},
   "outputs": [
    {
     "name": "stderr",
     "output_type": "stream",
     "text": [
      "100%|██████████████████████████████████████████████████████████████████████████████████| 10/10 [01:32<00:00,  9.25s/it]\n"
     ]
    },
    {
     "data": {
      "text/plain": [
       "(array([1., 1., 1., 1., 1., 2., 0., 0., 2., 1.]),\n",
       " array([-0.23515891, -0.15021111, -0.06526332,  0.01968448,  0.10463227,\n",
       "         0.18958007,  0.27452787,  0.35947566,  0.44442346,  0.52937125,\n",
       "         0.61431905]),\n",
       " <a list of 10 Patch objects>)"
      ]
     },
     "execution_count": 159,
     "metadata": {},
     "output_type": "execute_result"
    },
    {
     "data": {
      "image/png": "[encoded data removed]",
      "text/plain": [
       "<Figure size 432x288 with 1 Axes>"
      ]
     },
     "metadata": {
      "needs_background": "light"
     },
     "output_type": "display_data"
    }
   ],
   "source": [
    "results = []\n",
    "for j in tqdm.tqdm(range(10)):\n",
    "    y = data_generation(n,T)\n",
    "    results.append(minimize_scalar(to_minimize, bounds = (-0.99,0.99), method = \"bounded\").x)\n",
    "plt.hist(results)"
   ]
  },
  {
   "cell_type": "code",
   "execution_count": null,
   "metadata": {},
   "outputs": [],
   "source": [
    "plt.hist(results)"
   ]
  }
 ],
 "metadata": {
  "kernelspec": {
   "display_name": "Python 3",
   "language": "python",
   "name": "python3"
  },
  "language_info": {
   "codemirror_mode": {
    "name": "ipython",
    "version": 3
   },
   "file_extension": ".py",
   "mimetype": "text/x-python",
   "name": "python",
   "nbconvert_exporter": "python",
   "pygments_lexer": "ipython3",
   "version": "3.8.3"
  }
 },
 "nbformat": 4,
 "nbformat_minor": 4
}
