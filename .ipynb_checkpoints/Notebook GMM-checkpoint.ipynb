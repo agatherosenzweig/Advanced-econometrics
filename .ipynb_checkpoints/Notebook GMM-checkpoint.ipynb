{
 "cells": [
  {
   "cell_type": "code",
   "execution_count": 113,
   "metadata": {},
   "outputs": [
    {
     "name": "stdout",
     "output_type": "stream",
     "text": [
      "Collecting pydynpd\n",
      "  Downloading pydynpd-0.1.9-py3-none-any.whl (25 kB)\n",
      "Requirement already satisfied: pandas in c:\\users\\gaet9\\anaconda3\\lib\\site-packages (from pydynpd) (1.1.3)\n",
      "Requirement already satisfied: scipy in c:\\users\\gaet9\\anaconda3\\lib\\site-packages (from pydynpd) (1.5.2)\n",
      "Requirement already satisfied: numpy in c:\\users\\gaet9\\anaconda3\\lib\\site-packages (from pydynpd) (1.19.2)\n",
      "Collecting prettytable\n",
      "  Downloading prettytable-3.3.0-py3-none-any.whl (26 kB)\n",
      "Requirement already satisfied: python-dateutil>=2.7.3 in c:\\users\\gaet9\\anaconda3\\lib\\site-packages (from pandas->pydynpd) (2.8.1)\n",
      "Requirement already satisfied: pytz>=2017.2 in c:\\users\\gaet9\\anaconda3\\lib\\site-packages (from pandas->pydynpd) (2020.1)\n",
      "Requirement already satisfied: wcwidth in c:\\users\\gaet9\\anaconda3\\lib\\site-packages (from prettytable->pydynpd) (0.2.5)\n",
      "Requirement already satisfied: six>=1.5 in c:\\users\\gaet9\\anaconda3\\lib\\site-packages (from python-dateutil>=2.7.3->pandas->pydynpd) (1.15.0)\n",
      "Installing collected packages: prettytable, pydynpd\n",
      "Successfully installed prettytable-3.3.0 pydynpd-0.1.9\n"
     ]
    }
   ],
   "source": [
    "!pip install pydynpd"
   ]
  },
  {
   "cell_type": "code",
   "execution_count": 414,
   "metadata": {},
   "outputs": [
    {
     "ename": "ModuleNotFoundError",
     "evalue": "No module named 'linearmodels'",
     "output_type": "error",
     "traceback": [
      "\u001b[1;31m---------------------------------------------------------------------------\u001b[0m",
      "\u001b[1;31mModuleNotFoundError\u001b[0m                       Traceback (most recent call last)",
      "\u001b[1;32m<ipython-input-414-c320373e33b1>\u001b[0m in \u001b[0;36m<module>\u001b[1;34m\u001b[0m\n\u001b[0;32m     10\u001b[0m \u001b[1;32mimport\u001b[0m  \u001b[0mpydynpd\u001b[0m \u001b[1;32mas\u001b[0m \u001b[0mregg\u001b[0m\u001b[1;33m\u001b[0m\u001b[1;33m\u001b[0m\u001b[0m\n\u001b[0;32m     11\u001b[0m \u001b[1;33m\u001b[0m\u001b[0m\n\u001b[1;32m---> 12\u001b[1;33m \u001b[1;32mfrom\u001b[0m \u001b[0mlinearmodels\u001b[0m \u001b[1;32mimport\u001b[0m \u001b[0mPanelOLS\u001b[0m\u001b[1;33m\u001b[0m\u001b[1;33m\u001b[0m\u001b[0m\n\u001b[0m",
      "\u001b[1;31mModuleNotFoundError\u001b[0m: No module named 'linearmodels'"
     ]
    }
   ],
   "source": [
    "import random\n",
    "import numpy as np\n",
    "from sklearn.linear_model import LinearRegression\n",
    "from scipy.optimize import minimize_scalar\n",
    "import pandas as pd\n",
    "#import statsmodels.api as sm\n",
    "import time\n",
    "import matplotlib.pyplot as plt\n",
    "from  pydynpd import regression\n",
    "import  pydynpd as regg\n",
    "\n",
    "from linearmodels import PanelOLS\n"
   ]
  },
  {
   "cell_type": "code",
   "execution_count": 415,
   "metadata": {},
   "outputs": [],
   "source": [
    "#Paramètre du modèle + génération des espilon\n",
    "random.seed(2040)\n",
    "n=100\n",
    "T=10\n",
    "phizero=0.4\n",
    "a=np.array([np.random.normal(0,1) for i in range(n)])\n",
    "y0=np.array([np.random.normal(a[i]/(1-phizero),1/np.sqrt(1-phizero**2)) for i in range(n)])\n",
    "epsilon=[np.random.normal(0,1) for i in range(n*T)]"
   ]
  },
  {
   "cell_type": "markdown",
   "metadata": {},
   "source": [
    "On génère les données dans une matrice y de taille $N \\times T$ avec en ligne les i et en colonne les T selon la formule :\n",
    "$y_i,t = y_{i,t-1}+a_i+\\epsilon_{i,t}$"
   ]
  },
  {
   "cell_type": "code",
   "execution_count": 416,
   "metadata": {},
   "outputs": [],
   "source": [
    "y=np.zeros((T,n))\n",
    "y[0]=y0\n",
    "y=y.T\n",
    "for i in range(n):\n",
    "    for j in range(1,T):\n",
    "        y[i][j]=a[i]+phizero*y[i][j-1]+epsilon[i*T+j]\n",
    "\n",
    "yit=y.reshape(n*T)"
   ]
  },
  {
   "cell_type": "code",
   "execution_count": 417,
   "metadata": {},
   "outputs": [],
   "source": [
    "#Generation des first difference :\n",
    "delta_y=np.zeros((n,T-1))\n",
    "for i in range(n):\n",
    "    for j in range(T-1):\n",
    "        delta_y[i,j]=y[i,j+1]-y[i,j]"
   ]
  },
  {
   "cell_type": "markdown",
   "metadata": {},
   "source": [
    "On cheche à coder un GMM baser sur ces moments là : $\\forall t>1, \\forall s>2, E(y_{it-s}\\Delta u_{it})=0$. \n",
    "\n",
    "Leur contrepartie empirique est : $$ \\frac{1}{N}\\sum_{i=1}^N y_{it-s}(\\Delta u_{it}) = \\frac{1}{N}\\sum_{i=1}^N y_{it-s}(\\Delta y_{it} - \\phi_0 \\Delta y_{it-1}) $$\n",
    "\n",
    "Comme on instrumente directement les différences premières, on ne considère plus l'observation à t=0\n",
    "\n",
    "$Z_{it}$ contient la liste des instruments de l'individu i au temps t. \n",
    "\n",
    "Par exemple : pour t=1, pas d'instrument (car s>2) => on ajoute un 0. Pour t=2, le seul instrument disponible est $y_{i0}$...\n",
    "\n",
    "Donc sur la ligne t de Z on aura : $(0,y_{i0},(y_{i0},y_{i1}),(y_{i0},y_{i1},y_{i2}),...)$ et ce pour les n individus\n",
    "\n"
   ]
  },
  {
   "cell_type": "code",
   "execution_count": 418,
   "metadata": {},
   "outputs": [],
   "source": [
    "z=[]\n",
    "y\n",
    "#On parcours tous les individus\n",
    "for i in range(n):\n",
    "    #On ajoute une ligne avec un zéros qui symbolise t=1\n",
    "    z.append([[0]])\n",
    "    \n",
    "    #Pour tous les temps T>2, on ajoute les instruments jusqu'à yi0\n",
    "    for t in range(2,T):\n",
    "        instrument=[y[i,t-s] for s in range(2,t+1) ]\n",
    "        z[i].append(instrument)\n"
   ]
  },
  {
   "cell_type": "markdown",
   "metadata": {},
   "source": [
    "On a donc $h(\\rho,\\Delta y_{it},z_{it})$ tel que : $E(h(\\rho,\\Delta y_{it},z_{it}))=0$.\n",
    "\n",
    "En l'occurence :  $ h(\\rho,\\Delta y_{it},z_{it}) = z_{it}(\\Delta y_{it}-\\rho \\Delta y_{it-s})$.\n",
    "\n",
    "Ici la fonction h stock l'ensemble des moments générés pour l'observation $y_{i,t}$ (un par instrument)\n",
    "\n",
    "\n"
   ]
  },
  {
   "cell_type": "code",
   "execution_count": 419,
   "metadata": {},
   "outputs": [],
   "source": [
    "def h(rho,i,t):\n",
    "    instr=z[i][t]\n",
    "    return [inst*(delta_y[i,t]-rho*delta_y[i,t-1]) for inst in instr]\n"
   ]
  },
  {
   "cell_type": "markdown",
   "metadata": {},
   "source": [
    "Puis on a : \n",
    "$h(\\rho,Y_i,Z_i,X_i) = (h(\\rho,\\Delta y_{11},z_{1T}),h(\\rho,\\Delta y_{21},z_{2T})...)$"
   ]
  },
  {
   "cell_type": "markdown",
   "metadata": {},
   "source": [
    "Finalement on minimise le critère : \n",
    "    $$Q(\\theta)=[\\sum_{i=1}^Nh_i(\\theta,Y_i)]'W_T[\\sum_{i=1}^Nh(\\theta,Y_i)]$$"
   ]
  },
  {
   "cell_type": "code",
   "execution_count": 420,
   "metadata": {},
   "outputs": [],
   "source": [
    "#On agrège tous les moments d'un individu donné dans un vecteur \n",
    "def tab_h(i,rho):\n",
    "    tab_h=[]\n",
    "    for t in range(1,T-1):\n",
    "        tab_h+=h(rho,i,t)\n",
    "    return np.array(tab_h)\n",
    "\n",
    "#On définit le critère ci dessus.\n",
    "def critere(rho):\n",
    "    M=1/(n-1)*sum([tab_h(i,rho) for i in range(n-1)])\n",
    "    return M@M.T\n"
   ]
  },
  {
   "cell_type": "code",
   "execution_count": 421,
   "metadata": {},
   "outputs": [
    {
     "data": {
      "text/plain": [
       "     fun: 2.0328013851620694\n",
       "    nfev: 9\n",
       "     nit: 5\n",
       " success: True\n",
       "       x: 0.1435005145026643"
      ]
     },
     "execution_count": 421,
     "metadata": {},
     "output_type": "execute_result"
    }
   ],
   "source": [
    "minimize_scalar(critere)"
   ]
  },
  {
   "cell_type": "markdown",
   "metadata": {},
   "source": [
    "Après trop de temps à me perdre dans l'article de Arellano Bover 95 (pour qqch de vraiment pas ouf), j'ai enfin compris que Arrelo Bover ajoute comme nouveaux moments à rajouter dans le GMM. J'ai trouvé cette version clair de ça dans Blundell bond 98 :\n",
    "$$ E(u_{i,t},\\Delta y_{i,t-1})=E((y_{i,t}-\\phi_0 y_{it-1})(y_{i,t-1}-y_{it-2})=0, \\text{for } t=2,3,...,T $$\n",
    "\n",
    "Genre les résidu de l'équation au temps t sont orthogonaux de leur \"condition intiale\" au temps t-1.\n",
    "\n",
    "On va coder ça. Comme il y qu'un seul momen par temps c'est plus facile, on les mets direct dans un vecteur pour chaque individu."
   ]
  },
  {
   "cell_type": "code",
   "execution_count": 422,
   "metadata": {},
   "outputs": [],
   "source": [
    "def moment_l (i,rho):\n",
    "    moment_l=[]\n",
    "    for t in range(3,T):\n",
    "        moment_l+=[(y[i,t]-rho*y[i,t-1])*(y[i,t-1]-y[i,t-2])] \n",
    "    return moment_l\n",
    "\n",
    "\n",
    "def GMM_Ar_Bond (rho) :\n",
    "    moments=[]\n",
    "    for i in range(n):\n",
    "        moments.append(np.array(moment_l(i,rho)+list(tab_h(i,rho))))\n",
    "    M=1/(n-1)*sum([moments[i] for i in range(n-1)])\n",
    "    return M@M.T\n",
    "\n",
    "\n"
   ]
  },
  {
   "cell_type": "code",
   "execution_count": 423,
   "metadata": {},
   "outputs": [
    {
     "data": {
      "text/plain": [
       "     fun: 2.430802216204631\n",
       "    nfev: 10\n",
       "     nit: 6\n",
       " success: True\n",
       "       x: 0.29807911249470714"
      ]
     },
     "execution_count": 423,
     "metadata": {},
     "output_type": "execute_result"
    }
   ],
   "source": [
    "minimize_scalar(GMM_Ar_Bond)"
   ]
  },
  {
   "cell_type": "markdown",
   "metadata": {},
   "source": [
    "Bon pour l'instant je sais pas pourquoi mais les résultats sont absolument pas ouf XD. Je pense que si on remettait tout ca en forme matricielle et qu'on fait juste la formule ca fonctionnerait mieux :("
   ]
  },
  {
   "cell_type": "markdown",
   "metadata": {},
   "source": [
    "An alternative method to compute the GMM is to use the pydynpd package (see https://github.com/dazhwu/pydynpd/blob/main/vignettes/Tutorial.ipynb).\n",
    "We now define our model without the individual and time dummies (so a simple AR(1)), and the instruments we use after the \"|\" (we use all lags of order greater or equal to 2, consistently with equation (5) of the paper)."
   ]
  },
  {
   "cell_type": "code",
   "execution_count": 424,
   "metadata": {},
   "outputs": [],
   "source": [
    "def data(y,n):\n",
    "    df = pd.DataFrame(y)\n",
    "    df = df.add_prefix('Y')\n",
    "    df['id'] = range(n)\n",
    "    df = pd.wide_to_long(df, \"Y\", i=\"id\", j=\"time\")\n",
    "    df = df.reset_index(level=['id', 'time'])\n",
    "    df = df.sort_values(by=['id', 'time'])\n",
    "    return(df)"
   ]
  },
  {
   "cell_type": "code",
   "execution_count": 425,
   "metadata": {},
   "outputs": [],
   "source": [
    "df = data(y,n)\n",
    "command_str='Y L1.Y | gmm(Y, 2:.)'"
   ]
  },
  {
   "cell_type": "code",
   "execution_count": 426,
   "metadata": {},
   "outputs": [
    {
     "name": "stdout",
     "output_type": "stream",
     "text": [
      " Dynamic panel-data estimation, two-step system GMM\n",
      " Group variable: id                               Number of obs = 900     \n",
      " Time variable: time                              Min obs per group: 9    \n",
      " Number of instruments = 45                       Max obs per group: 9    \n",
      " Number of groups = 100                           Avg obs per group: 9.00 \n",
      "+------+-----------+---------------------+-----------+-----------+-----+\n",
      "|  Y   |   coef.   | Corrected Std. Err. |     z     |   P>|z|   |     |\n",
      "+------+-----------+---------------------+-----------+-----------+-----+\n",
      "| L1.Y | 0.4283667 |      0.0499459      | 8.5766058 | 0.0000000 | *** |\n",
      "| _con | 0.0866714 |      0.0886481      | 0.9777014 | 0.3282220 |     |\n",
      "+------+-----------+---------------------+-----------+-----------+-----+\n",
      "Hansen test of overid. restrictions: chi(43) = 43.215 Prob > Chi2 = 0.462\n",
      "Arellano-Bond test for AR(1) in first differences: z = -6.55 Pr > z =0.000\n",
      "Arellano-Bond test for AR(2) in first differences: z = -0.14 Pr > z =0.890\n",
      "\n"
     ]
    }
   ],
   "source": [
    "mydpd = regression.abond(command_str, df, ['id', 'time'])\n",
    "\n",
    "user_command=regg.command.command(command_str,df.columns)\n",
    "pdata = regg.panel_data.panel_data(df,  ['id', 'time'], user_command.variables, user_command.options)\n",
    "model=regg.dynamic_panel_model.dynamic_panel_model(pdata, user_command.variables, user_command.options, command_str, user_command.part_2, user_command.part_3)\n"
   ]
  },
  {
   "cell_type": "code",
   "execution_count": 427,
   "metadata": {},
   "outputs": [
    {
     "name": "stdout",
     "output_type": "stream",
     "text": [
      " Dynamic panel-data estimation, two-step system GMM\n",
      " Group variable: id                               Number of obs = 900     \n",
      " Time variable: time                              Min obs per group: 9    \n",
      " Number of instruments = 45                       Max obs per group: 9    \n",
      " Number of groups = 100                           Avg obs per group: 9.00 \n",
      "+------+-----------+---------------------+-----------+-----------+-----+\n",
      "|  Y   |   coef.   | Corrected Std. Err. |     z     |   P>|z|   |     |\n",
      "+------+-----------+---------------------+-----------+-----------+-----+\n",
      "| L1.Y | 0.4283667 |      0.0499459      | 8.5766058 | 0.0000000 | *** |\n",
      "| _con | 0.0866714 |      0.0886481      | 0.9777014 | 0.3282220 |     |\n",
      "+------+-----------+---------------------+-----------+-----------+-----+\n",
      "Hansen test of overid. restrictions: chi(43) = 43.215 Prob > Chi2 = 0.462\n",
      "Arellano-Bond test for AR(1) in first differences: z = -6.55 Pr > z =0.000\n",
      "Arellano-Bond test for AR(2) in first differences: z = -0.14 Pr > z =0.890\n",
      "\n"
     ]
    },
    {
     "data": {
      "text/html": [
       "<div>\n",
       "<style scoped>\n",
       "    .dataframe tbody tr th:only-of-type {\n",
       "        vertical-align: middle;\n",
       "    }\n",
       "\n",
       "    .dataframe tbody tr th {\n",
       "        vertical-align: top;\n",
       "    }\n",
       "\n",
       "    .dataframe thead th {\n",
       "        text-align: right;\n",
       "    }\n",
       "</style>\n",
       "<table border=\"1\" class=\"dataframe\">\n",
       "  <thead>\n",
       "    <tr style=\"text-align: right;\">\n",
       "      <th></th>\n",
       "      <th>variable</th>\n",
       "      <th>coefficient</th>\n",
       "      <th>std_err</th>\n",
       "      <th>z_value</th>\n",
       "      <th>p_value</th>\n",
       "      <th>sig</th>\n",
       "    </tr>\n",
       "  </thead>\n",
       "  <tbody>\n",
       "    <tr>\n",
       "      <th>0</th>\n",
       "      <td>L1.Y</td>\n",
       "      <td>0.428367</td>\n",
       "      <td>0.049946</td>\n",
       "      <td>8.576606</td>\n",
       "      <td>9.771380e-18</td>\n",
       "      <td>***</td>\n",
       "    </tr>\n",
       "    <tr>\n",
       "      <th>1</th>\n",
       "      <td>_con</td>\n",
       "      <td>0.086671</td>\n",
       "      <td>0.088648</td>\n",
       "      <td>0.977701</td>\n",
       "      <td>3.282220e-01</td>\n",
       "      <td></td>\n",
       "    </tr>\n",
       "  </tbody>\n",
       "</table>\n",
       "</div>"
      ],
      "text/plain": [
       "  variable  coefficient   std_err   z_value       p_value  sig\n",
       "0     L1.Y     0.428367  0.049946  8.576606  9.771380e-18  ***\n",
       "1     _con     0.086671  0.088648  0.977701  3.282220e-01     "
      ]
     },
     "execution_count": 427,
     "metadata": {},
     "output_type": "execute_result"
    }
   ],
   "source": [
    "mydpd.regular_process(model)\n",
    "mydpd.form_results(model)\n",
    "model.regression_table"
   ]
  },
  {
   "cell_type": "markdown",
   "metadata": {},
   "source": [
    "- Approche Han et Phillips"
   ]
  },
  {
   "cell_type": "code",
   "execution_count": null,
   "metadata": {},
   "outputs": [],
   "source": [
    "def HP_estim_direct(y,n,T):\n",
    "    #Implémentation directe\n",
    "    numerateur=0\n",
    "    denominateur=0\n",
    "    for i in range(n) :\n",
    "        for t in range(T):\n",
    "            delta_1=y[i,t-1]-y[i,t-2]\n",
    "            delta=y[i,t]-y[i,t-1]\n",
    "            numerateur+=delta_1*(2*delta+delta_1)\n",
    "            denominateur+=(delta_1)**2\n",
    "\n",
    "    estim=numerateur/denominateur\n",
    "   # print(\"Estimation directe: \",estim)\n",
    "    return estim\n",
    "\n",
    "def HP_estim_algo(y,n,T):\n",
    "    #implémentation par algo de maximisation\n",
    "    def moment_HP(i,rho):\n",
    "        moment_l=[]\n",
    "        for t in range(3,T):\n",
    "            delta_1=y[i,t-1]-y[i,t-2]\n",
    "            delta=y[i,t]-y[i,t-1]\n",
    "            moment_l+=[delta_1*(2*delta+delta_1)-rho*delta_1] \n",
    "        return moment_l\n",
    "\n",
    "    def GMM_HP(rho):\n",
    "        moments=[]\n",
    "        for i in range(n):\n",
    "            moments.append(np.array(moment_HP(i,rho)))\n",
    "        M=1/(n-1)*sum([moments[i] for i in range(n-1)])\n",
    "        return M@M.T\n",
    "\n",
    "    estim2=minimize_scalar(GMM_HP, tol=0.01)\n",
    "    print(\"Estimation par algo: \",estim2[\"x\"])  \n",
    "    \n",
    "    return(estim2)\n",
    "\n",
    "HP_estim_direct(y,n,T)\n",
    "HP_estim_algo(y,n,T)\n"
   ]
  },
  {
   "cell_type": "markdown",
   "metadata": {},
   "source": [
    "MLE avec correction de biais de Han et Kuersteiner : la formule explicite est donnée directe dans l'article : je recopie."
   ]
  },
  {
   "cell_type": "code",
   "execution_count": 332,
   "metadata": {},
   "outputs": [
    {
     "name": "stdout",
     "output_type": "stream",
     "text": [
      "0.29125978507169825\n"
     ]
    }
   ],
   "source": [
    "def HK_estim(y,n,T):\n",
    "    within_ = [1/T*sum([y[i][t-1] for t in range(1,T)]) for i in range(n)]\n",
    "    within = [1/T*sum([y[i][t] for t in range(1,T)]) for i in range(n)]\n",
    "\n",
    "    #Denominateur (le même pour OLS et HK, noté Upsilon):\n",
    "    Upsilon=0\n",
    "    for i in range(n):\n",
    "        for t in range(1,T):\n",
    "            Upsilon+=(y[i,t-1]-within_[i])**2\n",
    "\n",
    "    Upsilon*=1/(n*T)\n",
    "\n",
    "    #Numérateur (le même pour OLS et la première partie de HK)\n",
    "    HK_num_1=0\n",
    "    for i in range(n):\n",
    "        for t in range(1,T):\n",
    "            HK_num_1+=(y[i,t-1]-within_[i])*(y[i,t]-within_[i])\n",
    "    HK_num_1*=1/(n*T)\n",
    "\n",
    "    phi_OLS=HK_num_1/Upsilon\n",
    "\n",
    "    omega=(1-phi_OLS**2)*Upsilon\n",
    "\n",
    "    HK_num_2 = (1/T)*(1-phi_OLS)*omega\n",
    "\n",
    "    HK_estim=(HK_num_1+HK_num_2)/Upsilon\n",
    "    \n",
    "    return HK_estim\n",
    "\n",
    "print(HK_estim(y,n,T))\n"
   ]
  },
  {
   "cell_type": "markdown",
   "metadata": {},
   "source": [
    "Mnt il faut coder l'inférence indirecte :\n",
    "\n",
    "1) On crée une fonction qui génère des données avec un phi donné\n",
    "\n",
    "2) On crée une fonction qui calcul OLS avec des données donnée\n",
    "\n",
    "3) On utilise la super fonction trop cool qui minimise des fonctions"
   ]
  },
  {
   "cell_type": "code",
   "execution_count": 333,
   "metadata": {},
   "outputs": [],
   "source": [
    "#Exactement la même chose qu'au début\n",
    "random.seed(2040)\n",
    "def gener_donne(phi,n,T):\n",
    "    phizero=float(phi)\n",
    "    a=np.array([np.random.normal(0,1) for i in range(n)])\n",
    "    y0=np.array([np.random.normal(a[i]/(1-phizero),1/np.sqrt(1-phizero**2)) for i in range(n)])\n",
    "    epsilon=[np.random.normal(0,1) for i in range(n*T)]\n",
    "    y=np.zeros((T,n))\n",
    "    y[0]=y0\n",
    "    y=y.T\n",
    "    for i in range(n):\n",
    "        for j in range(1,T):\n",
    "            y[i][j]=a[i]+phizero*y[i][j-1]+epsilon[i*T+j]\n",
    "    \n",
    "    return y\n",
    "\n"
   ]
  },
  {
   "cell_type": "code",
   "execution_count": 334,
   "metadata": {},
   "outputs": [],
   "source": [
    "def gener_donne_partielle(phi,n,T,a,y0_,espsilon):\n",
    "    phizero=float(phi)\n",
    "    y=np.zeros((T,n))\n",
    "    y0=(y0_+a/(1-phizero))*np.sqrt(1/np.sqrt(1-phizero**2))\n",
    "    y[0]=y0\n",
    "    y=y.T\n",
    "    for i in range(n):\n",
    "        for j in range(1,T):\n",
    "            y[i][j]=a[i]+phizero*y[i][j-1]+epsilon[i*T+j]\n",
    "    \n",
    "    return y\n",
    "    "
   ]
  },
  {
   "cell_type": "code",
   "execution_count": 335,
   "metadata": {},
   "outputs": [],
   "source": [
    "#Formule du papier pour l'estimateur\n",
    "def ML_papier(y,n,T):\n",
    "    mat_y_=y[:,:T-1]\n",
    "    mat_y=y[:,1:]\n",
    "    \n",
    "    y=mat_y.reshape(n*(T-1),1)\n",
    "    y_=mat_y_.reshape(n*(T-1),1)\n",
    "    \n",
    "    i=np.array([np.ones(T-1)])\n",
    "    A=np.kron(np.eye(n,n),(np.eye(T-1,T-1)-(1/(T-1))*i.T@i))\n",
    "    \n",
    "    phi_ML_aux=np.linalg.inv((y_.T)@A@y_)@((y_.T)@A@y)\n",
    "    \n",
    "    return phi_ML_aux\n",
    "\n",
    "#Calcul de la binding function simulée pour un phi donnée\n",
    "def b_NT(phi,H,n,T,a,y0_,epsilon):\n",
    "    b_simul=[ML_papier(gener_donne_partielle(phi,n,T,a[H],y0_[H],epsilon[H]),n,T) for H in range(H)]\n",
    "    return np.mean(b_simul)"
   ]
  },
  {
   "cell_type": "code",
   "execution_count": 336,
   "metadata": {},
   "outputs": [
    {
     "name": "stderr",
     "output_type": "stream",
     "text": [
      "C:\\Users\\gaet9\\Anaconda3\\lib\\site-packages\\numpy\\core\\fromnumeric.py:87: VisibleDeprecationWarning: Creating an ndarray from ragged nested sequences (which is a list-or-tuple of lists-or-tuples-or ndarrays with different lengths or shapes) is deprecated. If you meant to do this, you must specify 'dtype=object' when creating the ndarray\n",
      "  return ufunc.reduce(obj, axis, dtype, out, **passkwargs)\n"
     ]
    },
    {
     "data": {
      "text/plain": [
       "0.4003620809181398"
      ]
     },
     "execution_count": 336,
     "metadata": {},
     "output_type": "execute_result"
    }
   ],
   "source": [
    "#Minimisation de l'écart entre la binding fuction simulée et la \"vraie valeur\"\n",
    "# de la binding function\n",
    "\n",
    "def estim_indirect(H,y,n,T):\n",
    "    x=ML_papier(y,n,T)\n",
    "    \n",
    "    a=[np.array([np.random.normal(0,1) for i in range(n)]) for h in range(H)]\n",
    "    y0=[np.array([np.random.normal(0,1) for i in range(n)]) for h in range(H)]\n",
    "    epsilon=[[np.random.normal(0,1) for i in range(n*T)] for h in range(H)]\n",
    "    \n",
    "    def ecartL2(phi):\n",
    "        return abs(x-b_NT(phi,H,n,T,a,y0,epsilon))**2\n",
    "    \n",
    "    return minimize_scalar(ecartL2,method=\"bounded\", bounds=(0.01,0.99)).x[0][0]\n",
    "\n",
    "\n",
    "estim_indirect(100,y,n,T)"
   ]
  },
  {
   "cell_type": "markdown",
   "metadata": {},
   "source": [
    "Même chose avec une autre fonction pour calculer binding function (theta)"
   ]
  },
  {
   "cell_type": "code",
   "execution_count": 337,
   "metadata": {},
   "outputs": [],
   "source": [
    "#autre fonction pour calculer la stat (LSDV regression, voir Hsiao, Pesaran 1999)\n",
    "def theta(y,T):\n",
    "    \n",
    "    mat_y_=y[:,:T-1] #from 0 to T-1 \n",
    "    mat_y=y[:,1:] #from 1 to T\n",
    "    \n",
    "    mean_y_ = mat_y_.mean(axis=1) #mean from 0 to t-1\n",
    "    mean_y = mat_y.mean(axis=1) #mean from 1 to T\n",
    "    \n",
    "    mat_y_centered = mat_y_ - mean_y_[:,None]\n",
    "    mat_ycentered = mat_y - mean_y[:,None]\n",
    "    \n",
    "    #element product\n",
    "    mat_numerator = mat_y_centered*mat_ycentered\n",
    "    mat_denominator = mat_y_centered*mat_y_centered\n",
    "    \n",
    "    #estimator (theta)\n",
    "    theta = np.sum(mat_numerator)/np.sum(mat_denominator)\n",
    "    return(theta)"
   ]
  },
  {
   "cell_type": "code",
   "execution_count": 338,
   "metadata": {},
   "outputs": [
    {
     "name": "stdout",
     "output_type": "stream",
     "text": [
      "[[0.1929026]] 0.19290259663650314\n"
     ]
    }
   ],
   "source": [
    "print(ML_papier(y,n,T), theta(y,T))"
   ]
  },
  {
   "cell_type": "code",
   "execution_count": 339,
   "metadata": {},
   "outputs": [],
   "source": [
    "def b_NT_bis(phi,H,n,T,a,y0_,epsilon):\n",
    "    #b_simul=[ML_papier(gener_donne(phi,n,T),n,T) for H in range(H)]\n",
    "    b_simul=[theta(gener_donne(phi,n,T),T) for H in range(H)]\n",
    "    return np.mean(b_simul)\n",
    "\n",
    "#Minimisation de l'écart entre la binding fuction simulée et la \"vraie valeur\"\n",
    "# de la binding function\n",
    "\n",
    "def estim_indirect_bis(H,y,n,T):\n",
    "    #x=ML_papier(y,n,T)\n",
    "    x=theta(y,T)\n",
    "    \n",
    "    a=[np.array([np.random.normal(0,1) for i in range(n)]) for h in range(H)]\n",
    "    y0=[np.array([np.random.normal(0,1) for i in range(n)]) for h in range(H)]\n",
    "    epsilon=[[np.random.normal(0,1) for i in range(n*T)] for h in range(H)]\n",
    "    \n",
    "    def ecartL2(phi):\n",
    "        return (x-b_NT_bis(phi,H,n,T,a,y0,epsilon))**2\n",
    "    \n",
    "    opt = minimize_scalar(ecartL2,method=\"bounded\", bounds=(0.01,0.99))\n",
    "    return(opt.x)\n",
    "    #return minimize_scalar(ecartL2,method=\"bounded\", bounds=(0.01,0.99)).x[0][0]"
   ]
  },
  {
   "cell_type": "code",
   "execution_count": 340,
   "metadata": {},
   "outputs": [
    {
     "name": "stdout",
     "output_type": "stream",
     "text": [
      "0.3971963093783086\n",
      "--- 11.467198610305786 seconds ---\n",
      "0.31080129129686307\n",
      "--- 20.83694052696228 seconds ---\n"
     ]
    }
   ],
   "source": [
    "start_time = time.time()\n",
    "print(estim_indirect(10,y,n,T))\n",
    "print(\"--- %s seconds ---\" % (time.time() - start_time))\n",
    "\n",
    "start_time = time.time()\n",
    "print(estim_indirect_bis(10,y,n,T))\n",
    "print(\"--- %s seconds ---\" % (time.time() - start_time))"
   ]
  },
  {
   "cell_type": "code",
   "execution_count": 342,
   "metadata": {},
   "outputs": [
    {
     "name": "stdout",
     "output_type": "stream",
     "text": [
      "[0.   0.1  0.2  0.3  0.4  0.5  0.6  0.7  0.8  0.9  0.99]\n"
     ]
    },
    {
     "ename": "KeyboardInterrupt",
     "evalue": "",
     "output_type": "error",
     "traceback": [
      "\u001b[1;31m---------------------------------------------------------------------------\u001b[0m",
      "\u001b[1;31mKeyboardInterrupt\u001b[0m                         Traceback (most recent call last)",
      "\u001b[1;32m<ipython-input-342-2264d6c1aa7f>\u001b[0m in \u001b[0;36m<module>\u001b[1;34m\u001b[0m\n\u001b[0;32m     13\u001b[0m         \u001b[1;32mfor\u001b[0m \u001b[0ma\u001b[0m \u001b[1;32min\u001b[0m \u001b[0mrange\u001b[0m\u001b[1;33m(\u001b[0m\u001b[1;36m20\u001b[0m\u001b[1;33m)\u001b[0m\u001b[1;33m:\u001b[0m\u001b[1;33m\u001b[0m\u001b[1;33m\u001b[0m\u001b[0m\n\u001b[0;32m     14\u001b[0m             \u001b[0my_rep\u001b[0m\u001b[1;33m=\u001b[0m\u001b[0mgener_donne\u001b[0m\u001b[1;33m(\u001b[0m\u001b[0mi\u001b[0m\u001b[1;33m,\u001b[0m\u001b[0mn\u001b[0m\u001b[1;33m,\u001b[0m\u001b[0mT\u001b[0m\u001b[1;33m)\u001b[0m\u001b[1;33m\u001b[0m\u001b[1;33m\u001b[0m\u001b[0m\n\u001b[1;32m---> 15\u001b[1;33m             \u001b[0mestim\u001b[0m\u001b[1;33m+=\u001b[0m\u001b[1;33m[\u001b[0m\u001b[0mML_papier\u001b[0m\u001b[1;33m(\u001b[0m\u001b[0my_rep\u001b[0m\u001b[1;33m,\u001b[0m\u001b[0mn\u001b[0m\u001b[1;33m,\u001b[0m\u001b[0mT\u001b[0m\u001b[1;33m)\u001b[0m\u001b[1;33m]\u001b[0m\u001b[1;33m\u001b[0m\u001b[1;33m\u001b[0m\u001b[0m\n\u001b[0m\u001b[0;32m     16\u001b[0m         \u001b[0mbinding\u001b[0m\u001b[1;33m+=\u001b[0m\u001b[1;33m[\u001b[0m\u001b[0mnp\u001b[0m\u001b[1;33m.\u001b[0m\u001b[0mmean\u001b[0m\u001b[1;33m(\u001b[0m\u001b[0mestim\u001b[0m\u001b[1;33m)\u001b[0m\u001b[1;33m]\u001b[0m\u001b[1;33m\u001b[0m\u001b[1;33m\u001b[0m\u001b[0m\n\u001b[0;32m     17\u001b[0m \u001b[1;33m\u001b[0m\u001b[0m\n",
      "\u001b[1;32m<ipython-input-335-9f1469f522df>\u001b[0m in \u001b[0;36mML_papier\u001b[1;34m(y, n, T)\u001b[0m\n\u001b[0;32m      8\u001b[0m \u001b[1;33m\u001b[0m\u001b[0m\n\u001b[0;32m      9\u001b[0m     \u001b[0mi\u001b[0m\u001b[1;33m=\u001b[0m\u001b[0mnp\u001b[0m\u001b[1;33m.\u001b[0m\u001b[0marray\u001b[0m\u001b[1;33m(\u001b[0m\u001b[1;33m[\u001b[0m\u001b[0mnp\u001b[0m\u001b[1;33m.\u001b[0m\u001b[0mones\u001b[0m\u001b[1;33m(\u001b[0m\u001b[0mT\u001b[0m\u001b[1;33m-\u001b[0m\u001b[1;36m1\u001b[0m\u001b[1;33m)\u001b[0m\u001b[1;33m]\u001b[0m\u001b[1;33m)\u001b[0m\u001b[1;33m\u001b[0m\u001b[1;33m\u001b[0m\u001b[0m\n\u001b[1;32m---> 10\u001b[1;33m     \u001b[0mA\u001b[0m\u001b[1;33m=\u001b[0m\u001b[0mnp\u001b[0m\u001b[1;33m.\u001b[0m\u001b[0mkron\u001b[0m\u001b[1;33m(\u001b[0m\u001b[0mnp\u001b[0m\u001b[1;33m.\u001b[0m\u001b[0meye\u001b[0m\u001b[1;33m(\u001b[0m\u001b[0mn\u001b[0m\u001b[1;33m,\u001b[0m\u001b[0mn\u001b[0m\u001b[1;33m)\u001b[0m\u001b[1;33m,\u001b[0m\u001b[1;33m(\u001b[0m\u001b[0mnp\u001b[0m\u001b[1;33m.\u001b[0m\u001b[0meye\u001b[0m\u001b[1;33m(\u001b[0m\u001b[0mT\u001b[0m\u001b[1;33m-\u001b[0m\u001b[1;36m1\u001b[0m\u001b[1;33m,\u001b[0m\u001b[0mT\u001b[0m\u001b[1;33m-\u001b[0m\u001b[1;36m1\u001b[0m\u001b[1;33m)\u001b[0m\u001b[1;33m-\u001b[0m\u001b[1;33m(\u001b[0m\u001b[1;36m1\u001b[0m\u001b[1;33m/\u001b[0m\u001b[1;33m(\u001b[0m\u001b[0mT\u001b[0m\u001b[1;33m-\u001b[0m\u001b[1;36m1\u001b[0m\u001b[1;33m)\u001b[0m\u001b[1;33m)\u001b[0m\u001b[1;33m*\u001b[0m\u001b[0mi\u001b[0m\u001b[1;33m.\u001b[0m\u001b[0mT\u001b[0m\u001b[1;33m@\u001b[0m\u001b[0mi\u001b[0m\u001b[1;33m)\u001b[0m\u001b[1;33m)\u001b[0m\u001b[1;33m\u001b[0m\u001b[1;33m\u001b[0m\u001b[0m\n\u001b[0m\u001b[0;32m     11\u001b[0m \u001b[1;33m\u001b[0m\u001b[0m\n\u001b[0;32m     12\u001b[0m     \u001b[0mphi_ML_aux\u001b[0m\u001b[1;33m=\u001b[0m\u001b[0mnp\u001b[0m\u001b[1;33m.\u001b[0m\u001b[0mlinalg\u001b[0m\u001b[1;33m.\u001b[0m\u001b[0minv\u001b[0m\u001b[1;33m(\u001b[0m\u001b[1;33m(\u001b[0m\u001b[0my_\u001b[0m\u001b[1;33m.\u001b[0m\u001b[0mT\u001b[0m\u001b[1;33m)\u001b[0m\u001b[1;33m@\u001b[0m\u001b[0mA\u001b[0m\u001b[1;33m@\u001b[0m\u001b[0my_\u001b[0m\u001b[1;33m)\u001b[0m\u001b[1;33m@\u001b[0m\u001b[1;33m(\u001b[0m\u001b[1;33m(\u001b[0m\u001b[0my_\u001b[0m\u001b[1;33m.\u001b[0m\u001b[0mT\u001b[0m\u001b[1;33m)\u001b[0m\u001b[1;33m@\u001b[0m\u001b[0mA\u001b[0m\u001b[1;33m@\u001b[0m\u001b[0my\u001b[0m\u001b[1;33m)\u001b[0m\u001b[1;33m\u001b[0m\u001b[1;33m\u001b[0m\u001b[0m\n",
      "\u001b[1;32m<__array_function__ internals>\u001b[0m in \u001b[0;36mkron\u001b[1;34m(*args, **kwargs)\u001b[0m\n",
      "\u001b[1;32m~\\Anaconda3\\lib\\site-packages\\numpy\\lib\\shape_base.py\u001b[0m in \u001b[0;36mkron\u001b[1;34m(a, b)\u001b[0m\n\u001b[0;32m   1155\u001b[0m     \u001b[0maxis\u001b[0m \u001b[1;33m=\u001b[0m \u001b[0mnd\u001b[0m\u001b[1;33m-\u001b[0m\u001b[1;36m1\u001b[0m\u001b[1;33m\u001b[0m\u001b[1;33m\u001b[0m\u001b[0m\n\u001b[0;32m   1156\u001b[0m     \u001b[1;32mfor\u001b[0m \u001b[0m_\u001b[0m \u001b[1;32min\u001b[0m \u001b[0mrange\u001b[0m\u001b[1;33m(\u001b[0m\u001b[0mnd\u001b[0m\u001b[1;33m)\u001b[0m\u001b[1;33m:\u001b[0m\u001b[1;33m\u001b[0m\u001b[1;33m\u001b[0m\u001b[0m\n\u001b[1;32m-> 1157\u001b[1;33m         \u001b[0mresult\u001b[0m \u001b[1;33m=\u001b[0m \u001b[0mconcatenate\u001b[0m\u001b[1;33m(\u001b[0m\u001b[0mresult\u001b[0m\u001b[1;33m,\u001b[0m \u001b[0maxis\u001b[0m\u001b[1;33m=\u001b[0m\u001b[0maxis\u001b[0m\u001b[1;33m)\u001b[0m\u001b[1;33m\u001b[0m\u001b[1;33m\u001b[0m\u001b[0m\n\u001b[0m\u001b[0;32m   1158\u001b[0m     \u001b[0mwrapper\u001b[0m \u001b[1;33m=\u001b[0m \u001b[0mget_array_prepare\u001b[0m\u001b[1;33m(\u001b[0m\u001b[0ma\u001b[0m\u001b[1;33m,\u001b[0m \u001b[0mb\u001b[0m\u001b[1;33m)\u001b[0m\u001b[1;33m\u001b[0m\u001b[1;33m\u001b[0m\u001b[0m\n\u001b[0;32m   1159\u001b[0m     \u001b[1;32mif\u001b[0m \u001b[0mwrapper\u001b[0m \u001b[1;32mis\u001b[0m \u001b[1;32mnot\u001b[0m \u001b[1;32mNone\u001b[0m\u001b[1;33m:\u001b[0m\u001b[1;33m\u001b[0m\u001b[1;33m\u001b[0m\u001b[0m\n",
      "\u001b[1;32m<__array_function__ internals>\u001b[0m in \u001b[0;36mconcatenate\u001b[1;34m(*args, **kwargs)\u001b[0m\n",
      "\u001b[1;31mKeyboardInterrupt\u001b[0m: "
     ]
    },
    {
     "data": {
      "image/png": "[encoded data removed]",
      "text/plain": [
       "<Figure size 432x288 with 1 Axes>"
      ]
     },
     "metadata": {
      "needs_background": "light"
     },
     "output_type": "display_data"
    }
   ],
   "source": [
    "x=np.linspace(0,0.9,10)\n",
    "x=np.append(x,0.99)\n",
    "print(x)\n",
    "liste_T=[5,10,20]\n",
    "type_ligne=[\"r--\",\"b--\",\"c--\"]\n",
    "\n",
    "\n",
    "for t in range(len(liste_T)) :\n",
    "    binding=[]\n",
    "    T=liste_T[t]\n",
    "    for i in x :\n",
    "        estim=[]\n",
    "        for a in range(20):\n",
    "            y_rep=gener_donne(i,n,T)\n",
    "            estim+=[ML_papier(y_rep,n,T)]\n",
    "        binding+=[np.mean(estim)]\n",
    "    \n",
    "    plt.plot(x,binding,type_ligne[t],label=\"N=\"+str(n)+\", T=\"+str(T)) \n",
    "\n",
    "    \n",
    "plt.plot(x,x,\"orange\",label=\"45 degree line\")\n",
    "plt.grid(color='black', linestyle='dotted', linewidth=1)\n",
    "plt.legend()\n",
    "plt.xlabel('True value for \\u03D5')\n",
    "plt.ylabel('Binding functions')\n",
    "plt.show()\n",
    "    "
   ]
  },
  {
   "cell_type": "markdown",
   "metadata": {},
   "source": []
  },
  {
   "cell_type": "markdown",
   "metadata": {},
   "source": [
    "Calcul de la RMSE"
   ]
  },
  {
   "cell_type": "code",
   "execution_count": null,
   "metadata": {},
   "outputs": [],
   "source": [
    "def RMSE(phi_estim_vec,phi):\n",
    "    return np.sqrt(np.mean((np.array(phi_estim_vec)-np.array([phi]*len(phi_estim_vec)))**2))\n",
    "\n",
    "\n",
    "RMSE([1,0.6,0],0.5)"
   ]
  },
  {
   "cell_type": "code",
   "execution_count": null,
   "metadata": {},
   "outputs": [],
   "source": [
    "T_liste=[5]*8+[10]*8+[20]*8\n",
    "N_liste=(([100]*4+[200]*4)*4)\n",
    "phi_liste=[0,0.3,0.6,0.9]*6\n",
    "\n",
    "def estim_ind(H):\n",
    "    def estim_ind (y,n,T):\n",
    "        return estim_indirect(H,y,n,T)\n",
    "    \n",
    "    return estim_ind\n",
    "\n",
    "#Fonction qui prend nb de replic, phi, n, T, l'estimateur\n",
    "\n",
    "def replic_estim(n_replic,phi,n,T,fonction, verbose=False) :\n",
    "    estim=[]\n",
    "    for i in range(n_replic) :\n",
    "        y=gener_donne(phi,n,T)\n",
    "        estim+=[fonction(y,n,T)] \n",
    "        if(verbose):\n",
    "            print(i)\n",
    "    biais=np.mean(np.array(estim))-phi\n",
    "    RMSE_mod=RMSE(estim,phi)\n",
    "        \n",
    "    return biais,RMSE_mod\n",
    "\n",
    "print(replic_estim(n_replic=1000,phi=0.5,n=100,T=10,fonction=HK_estim))\n",
    "print(replic_estim(n_replic=100,phi=0.5,n=100,T=10,fonction=HP_estim_direct))\n",
    "print(replic_estim(n_replic=100,phi=0.5,n=100,T=10,fonction=estim_ind(5), verbose=True))\n"
   ]
  },
  {
   "cell_type": "code",
   "execution_count": null,
   "metadata": {},
   "outputs": [],
   "source": []
  },
  {
   "cell_type": "code",
   "execution_count": null,
   "metadata": {},
   "outputs": [],
   "source": []
  }
 ],
 "metadata": {
  "kernelspec": {
   "display_name": "Python 3",
   "language": "python",
   "name": "python3"
  },
  "language_info": {
   "codemirror_mode": {
    "name": "ipython",
    "version": 3
   },
   "file_extension": ".py",
   "mimetype": "text/x-python",
   "name": "python",
   "nbconvert_exporter": "python",
   "pygments_lexer": "ipython3",
   "version": "3.8.5"
  }
 },
 "nbformat": 4,
 "nbformat_minor": 4
}
